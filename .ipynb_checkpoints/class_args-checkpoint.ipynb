{
 "cells": [
  {
   "cell_type": "raw",
   "metadata": {},
   "source": [
    "#class is a template or layout of a object which has properties , attributes and methods\n",
    "1>\n",
    "class <ClassName>(object):\n",
    "    pass\n",
    "\n",
    "2>\n",
    "class <ClassName>:\n",
    "    pass"
   ]
  },
  {
   "cell_type": "code",
   "execution_count": 6,
   "metadata": {},
   "outputs": [
    {
     "name": "stdout",
     "output_type": "stream",
     "text": [
      "Class object initializer method\n"
     ]
    }
   ],
   "source": [
    "class Human:\n",
    "    def __init__(self, heart, brain, legs=None, eyes=None, nose=None, mouth=None):\n",
    "                                     legs=2,       \n",
    "        print('Class object initializer method')\n",
    "        self.heart = heart\n",
    "        self.brain = brain\n",
    "        self.legs = legs\n",
    "        self.eyes = eyes\n",
    "        self.nose = eyes\n",
    "        self.mouth = mouth\n",
    "    \n",
    "    def action(self):\n",
    "        if self.legs==2:\n",
    "            print('He can walk')\n",
    "        else:\n",
    "            print(\"He can't walk\")\n",
    "        if self.mouth != None:\n",
    "            print('He /she can talk')\n",
    "        else:\n",
    "            print(\"He / She doesn't talk\")\n",
    "obj = Human('yes', 'yes', 2, mouth='yes')"
   ]
  },
  {
   "cell_type": "code",
   "execution_count": 7,
   "metadata": {},
   "outputs": [
    {
     "name": "stdout",
     "output_type": "stream",
     "text": [
      "He can walk\n",
      "He /she can talk\n"
     ]
    }
   ],
   "source": [
    "obj.action()"
   ]
  },
  {
   "cell_type": "code",
   "execution_count": 8,
   "metadata": {},
   "outputs": [
    {
     "name": "stdout",
     "output_type": "stream",
     "text": [
      "Class object initializer method\n"
     ]
    }
   ],
   "source": [
    "obj1 = Human('y', 'y', 1,1,'y', 'y')"
   ]
  },
  {
   "cell_type": "code",
   "execution_count": 9,
   "metadata": {},
   "outputs": [
    {
     "name": "stdout",
     "output_type": "stream",
     "text": [
      "Class object initializer method\n"
     ]
    }
   ],
   "source": [
    "obj2 = Human('y', 'y', nose='y', eyes=2 ,legs = 2)"
   ]
  },
  {
   "cell_type": "code",
   "execution_count": 10,
   "metadata": {},
   "outputs": [
    {
     "ename": "SyntaxError",
     "evalue": "positional argument follows keyword argument (<ipython-input-10-665dbe75c628>, line 1)",
     "output_type": "error",
     "traceback": [
      "\u001b[1;36m  File \u001b[1;32m\"<ipython-input-10-665dbe75c628>\"\u001b[1;36m, line \u001b[1;32m1\u001b[0m\n\u001b[1;33m    obj3 = Human(nose = 'yes', 'y', 'y')\u001b[0m\n\u001b[1;37m                               ^\u001b[0m\n\u001b[1;31mSyntaxError\u001b[0m\u001b[1;31m:\u001b[0m positional argument follows keyword argument\n"
     ]
    }
   ],
   "source": [
    "obj3 = Human(nose = 'yes', 'y', 'y')"
   ]
  },
  {
   "cell_type": "raw",
   "metadata": {},
   "source": [
    "#*args, **kwargs"
   ]
  },
  {
   "cell_type": "code",
   "execution_count": 13,
   "metadata": {},
   "outputs": [],
   "source": [
    "def fun(*x):\n",
    "    sq_list = []\n",
    "    for i in x:\n",
    "        sq_list.append(i**2)\n",
    "    return sq_list\n",
    "        "
   ]
  },
  {
   "cell_type": "code",
   "execution_count": 14,
   "metadata": {},
   "outputs": [
    {
     "data": {
      "text/plain": [
       "[1, 4, 9, 16, 25, 36, 49, 64, 81]"
      ]
     },
     "execution_count": 14,
     "metadata": {},
     "output_type": "execute_result"
    }
   ],
   "source": [
    "fun(1,2,3,4,5,6,7,8,9)"
   ]
  },
  {
   "cell_type": "code",
   "execution_count": 19,
   "metadata": {},
   "outputs": [],
   "source": [
    "def kwargs_example(**kwargs):\n",
    "    print(kwargs)\n",
    "    for k, v in kwargs.items():\n",
    "        print(k, v)"
   ]
  },
  {
   "cell_type": "code",
   "execution_count": 20,
   "metadata": {},
   "outputs": [
    {
     "name": "stdout",
     "output_type": "stream",
     "text": [
      "{'x': 10, 'y': 30, 'z': 40}\n",
      "x 10\n",
      "y 30\n",
      "z 40\n"
     ]
    }
   ],
   "source": [
    "kwargs_example(x=10, y=30, z=40)"
   ]
  },
  {
   "cell_type": "code",
   "execution_count": 22,
   "metadata": {},
   "outputs": [],
   "source": [
    "kwargs = {'x': 10, 'y': 30, 'z': 40}"
   ]
  },
  {
   "cell_type": "code",
   "execution_count": 23,
   "metadata": {},
   "outputs": [
    {
     "data": {
      "text/plain": [
       "30"
      ]
     },
     "execution_count": 23,
     "metadata": {},
     "output_type": "execute_result"
    }
   ],
   "source": [
    "kwargs['y']"
   ]
  },
  {
   "cell_type": "code",
   "execution_count": 26,
   "metadata": {},
   "outputs": [],
   "source": [
    "def kwargs_example(**kwargs):\n",
    "    if kwargs['x']:\n",
    "        print(kwargs['x'])\n",
    "    else:\n",
    "        print(None)"
   ]
  },
  {
   "cell_type": "code",
   "execution_count": 28,
   "metadata": {},
   "outputs": [
    {
     "name": "stdout",
     "output_type": "stream",
     "text": [
      "20\n"
     ]
    }
   ],
   "source": [
    "kwargs_example(x=20, y=30, z=40)"
   ]
  },
  {
   "cell_type": "code",
   "execution_count": null,
   "metadata": {},
   "outputs": [],
   "source": []
  }
 ],
 "metadata": {
  "kernelspec": {
   "display_name": "Python 3",
   "language": "python",
   "name": "python3"
  },
  "language_info": {
   "codemirror_mode": {
    "name": "ipython",
    "version": 3
   },
   "file_extension": ".py",
   "mimetype": "text/x-python",
   "name": "python",
   "nbconvert_exporter": "python",
   "pygments_lexer": "ipython3",
   "version": "3.7.9"
  }
 },
 "nbformat": 4,
 "nbformat_minor": 4
}
