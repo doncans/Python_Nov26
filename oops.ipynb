{
 "cells": [
  {
   "cell_type": "raw",
   "metadata": {},
   "source": [
    "class ClassName:\n",
    "    statements\n",
    "    statements\n",
    "    .........\n",
    "    ........."
   ]
  },
  {
   "cell_type": "code",
   "execution_count": 1,
   "metadata": {},
   "outputs": [],
   "source": [
    "class ClassName:\n",
    "    pass"
   ]
  },
  {
   "cell_type": "code",
   "execution_count": 2,
   "metadata": {},
   "outputs": [],
   "source": [
    "inst = ClassName()"
   ]
  },
  {
   "cell_type": "code",
   "execution_count": 5,
   "metadata": {},
   "outputs": [],
   "source": [
    "class SampleClass:\n",
    "    #class attribute\n",
    "    var  = 20\n",
    "    #instance method\n",
    "    def method(self):\n",
    "        print(\"Hello Python\")\n",
    "        print(a)\n",
    "    #instance method\n",
    "    def profession(self, name, profession_type):\n",
    "        self.name = name\n",
    "        self.profession_type = profession_type\n",
    "        print(\"{} is a {}\".format(self.name, self.profession_type))\n",
    "        \n",
    "    "
   ]
  },
  {
   "cell_type": "code",
   "execution_count": 6,
   "metadata": {},
   "outputs": [],
   "source": [
    "inst_obj = SampleClass()"
   ]
  },
  {
   "cell_type": "code",
   "execution_count": 7,
   "metadata": {},
   "outputs": [],
   "source": [
    "sudhakar = SampleClass()"
   ]
  },
  {
   "cell_type": "code",
   "execution_count": 8,
   "metadata": {},
   "outputs": [
    {
     "name": "stdout",
     "output_type": "stream",
     "text": [
      "sudhakar is a software engineer\n"
     ]
    }
   ],
   "source": [
    "sudhakar.profession('sudhakar', 'software engineer')"
   ]
  },
  {
   "cell_type": "code",
   "execution_count": 15,
   "metadata": {},
   "outputs": [],
   "source": [
    "class SampleClass:\n",
    "    #class attribute\n",
    "    var  = 20\n",
    "    def __init__(self):\n",
    "        print(\"This is the initialzing method\")\n",
    "    #instance method\n",
    "    def method(self):\n",
    "        print(\"Hello Python\")\n",
    "        print(self.var)\n",
    "    #instance method\n",
    "    def profession(self, name, profession_type):\n",
    "        self.name = name\n",
    "        self.profession_type = profession_type\n",
    "        print(\"{} is a {}\".format(self.name, self.profession_type))"
   ]
  },
  {
   "cell_type": "code",
   "execution_count": 16,
   "metadata": {},
   "outputs": [
    {
     "name": "stdout",
     "output_type": "stream",
     "text": [
      "This is the initialzing method\n"
     ]
    }
   ],
   "source": [
    "obj = SampleClass()"
   ]
  },
  {
   "cell_type": "code",
   "execution_count": 17,
   "metadata": {},
   "outputs": [
    {
     "name": "stdout",
     "output_type": "stream",
     "text": [
      "Hello Python\n",
      "20\n"
     ]
    }
   ],
   "source": [
    "obj.method()"
   ]
  },
  {
   "cell_type": "raw",
   "metadata": {},
   "source": [
    "#Inheritence\n",
    "1)sinle inheritance\n",
    "2)Multiple inheritance\n",
    "3)multilevel inheritance"
   ]
  },
  {
   "cell_type": "raw",
   "metadata": {},
   "source": [
    "class Parent:\n",
    "    pass\n",
    "class Child(Parent):\n",
    "    pass\n",
    "class Child1(Parent):\n",
    "    pass"
   ]
  },
  {
   "cell_type": "code",
   "execution_count": 20,
   "metadata": {},
   "outputs": [],
   "source": [
    "class Parent:\n",
    "    parent_var = 40\n",
    "    def __init__(self, x, y):\n",
    "        self.x = x\n",
    "        self.y = y\n",
    "    def parent_meth(self):\n",
    "        print('This is method of parent class')\n",
    "class Child(Parent):\n",
    "    child_var= 50\n",
    "    def child_method(self):\n",
    "        print('This is the child class method')"
   ]
  },
  {
   "cell_type": "code",
   "execution_count": 21,
   "metadata": {},
   "outputs": [
    {
     "ename": "TypeError",
     "evalue": "__init__() missing 2 required positional arguments: 'x' and 'y'",
     "output_type": "error",
     "traceback": [
      "\u001b[1;31m---------------------------------------------------------------------------\u001b[0m",
      "\u001b[1;31mTypeError\u001b[0m                                 Traceback (most recent call last)",
      "\u001b[1;32m<ipython-input-21-e93465ced3e1>\u001b[0m in \u001b[0;36m<module>\u001b[1;34m\u001b[0m\n\u001b[1;32m----> 1\u001b[1;33m \u001b[0mchild_object\u001b[0m \u001b[1;33m=\u001b[0m \u001b[0mChild\u001b[0m\u001b[1;33m(\u001b[0m\u001b[1;33m)\u001b[0m\u001b[1;33m\u001b[0m\u001b[1;33m\u001b[0m\u001b[0m\n\u001b[0m",
      "\u001b[1;31mTypeError\u001b[0m: __init__() missing 2 required positional arguments: 'x' and 'y'"
     ]
    }
   ],
   "source": [
    "child_object = Child()"
   ]
  },
  {
   "cell_type": "code",
   "execution_count": 22,
   "metadata": {},
   "outputs": [],
   "source": [
    "child_object = Child(5,6)"
   ]
  },
  {
   "cell_type": "code",
   "execution_count": 23,
   "metadata": {},
   "outputs": [
    {
     "ename": "TypeError",
     "evalue": "__init__() missing 2 required positional arguments: 'x' and 'y'",
     "output_type": "error",
     "traceback": [
      "\u001b[1;31m---------------------------------------------------------------------------\u001b[0m",
      "\u001b[1;31mTypeError\u001b[0m                                 Traceback (most recent call last)",
      "\u001b[1;32m<ipython-input-23-7bd17ff1d5d3>\u001b[0m in \u001b[0;36m<module>\u001b[1;34m\u001b[0m\n\u001b[1;32m----> 1\u001b[1;33m \u001b[0mparent_obj\u001b[0m \u001b[1;33m=\u001b[0m \u001b[0mParent\u001b[0m\u001b[1;33m(\u001b[0m\u001b[1;33m)\u001b[0m\u001b[1;33m\u001b[0m\u001b[1;33m\u001b[0m\u001b[0m\n\u001b[0m",
      "\u001b[1;31mTypeError\u001b[0m: __init__() missing 2 required positional arguments: 'x' and 'y'"
     ]
    }
   ],
   "source": [
    "parent_obj = Parent()"
   ]
  },
  {
   "cell_type": "code",
   "execution_count": 24,
   "metadata": {},
   "outputs": [],
   "source": [
    "parent_obj = Parent(10,40)"
   ]
  },
  {
   "cell_type": "code",
   "execution_count": 25,
   "metadata": {},
   "outputs": [
    {
     "name": "stdout",
     "output_type": "stream",
     "text": [
      "This is method of parent class\n"
     ]
    }
   ],
   "source": [
    "child_object.parent_meth()"
   ]
  },
  {
   "cell_type": "code",
   "execution_count": 26,
   "metadata": {},
   "outputs": [],
   "source": [
    "#Multiple inheritence "
   ]
  },
  {
   "cell_type": "code",
   "execution_count": 27,
   "metadata": {},
   "outputs": [],
   "source": [
    "class Parent1:#base class 1\n",
    "    pass\n",
    "class Parent2:#base class 2\n",
    "    pass\n",
    "class child(Parent1, Parent2):#derived class\n",
    "    pass"
   ]
  },
  {
   "cell_type": "code",
   "execution_count": 28,
   "metadata": {},
   "outputs": [],
   "source": [
    "#Multilevel inheritance"
   ]
  },
  {
   "cell_type": "code",
   "execution_count": 29,
   "metadata": {},
   "outputs": [],
   "source": [
    "class Parent:\n",
    "    pass\n",
    "class Child(Parent):\n",
    "    pass\n",
    "class Child2(Child):\n",
    "    pass"
   ]
  },
  {
   "cell_type": "code",
   "execution_count": 38,
   "metadata": {},
   "outputs": [],
   "source": [
    "class Parent:\n",
    "    x = 34\n",
    "    def meth(self):\n",
    "        print('This is the parent class method')\n",
    "class Child(Parent):\n",
    "    pass\n",
    "#     def meth(self):\n",
    "#         print('This is the child class method')\n",
    "class Child1(Child):\n",
    "    pass\n",
    "#     def meth(self):\n",
    "#         print('this is the child1 method')\n",
    "    \n",
    "    "
   ]
  },
  {
   "cell_type": "code",
   "execution_count": 39,
   "metadata": {},
   "outputs": [],
   "source": [
    "child1_obj = Child1()"
   ]
  },
  {
   "cell_type": "code",
   "execution_count": 40,
   "metadata": {},
   "outputs": [
    {
     "name": "stdout",
     "output_type": "stream",
     "text": [
      "This is the parent class method\n"
     ]
    }
   ],
   "source": [
    "child1_obj.meth()"
   ]
  },
  {
   "cell_type": "code",
   "execution_count": 37,
   "metadata": {},
   "outputs": [],
   "source": [
    "#Method resolution order"
   ]
  },
  {
   "cell_type": "code",
   "execution_count": 48,
   "metadata": {},
   "outputs": [],
   "source": [
    "class A:\n",
    "    def meth(self):\n",
    "        print('Method of class A')\n",
    "class B:\n",
    "    def meth(self):\n",
    "        print('Method of class B')\n",
    "class C(B,A):\n",
    "    pass\n",
    "#     def meth(self):\n",
    "#         print(\"Method of class C\")"
   ]
  },
  {
   "cell_type": "code",
   "execution_count": 49,
   "metadata": {},
   "outputs": [],
   "source": [
    "obj = C()"
   ]
  },
  {
   "cell_type": "code",
   "execution_count": 50,
   "metadata": {},
   "outputs": [
    {
     "name": "stdout",
     "output_type": "stream",
     "text": [
      "Method of class B\n"
     ]
    }
   ],
   "source": [
    "obj.meth()"
   ]
  },
  {
   "cell_type": "code",
   "execution_count": 51,
   "metadata": {},
   "outputs": [
    {
     "name": "stdout",
     "output_type": "stream",
     "text": [
      "23\n",
      "24\n",
      "+\n"
     ]
    }
   ],
   "source": [
    "a = int(input())\n",
    "b = int(input())\n",
    "operation = input()"
   ]
  },
  {
   "cell_type": "code",
   "execution_count": 52,
   "metadata": {},
   "outputs": [
    {
     "name": "stdout",
     "output_type": "stream",
     "text": [
      "47\n"
     ]
    }
   ],
   "source": [
    "if operation == '+':\n",
    "    print(a+b)\n",
    "elif operation == '-':\n",
    "    print(a-b)\n",
    "elif operation == '*':\n",
    "    print(a*b)\n",
    "else:\n",
    "    print('Give the valid inputs')"
   ]
  },
  {
   "cell_type": "code",
   "execution_count": null,
   "metadata": {},
   "outputs": [],
   "source": [
    "def Cal(a, b, operation):\n",
    "    if operation == '+':\n",
    "        print(a+b)\n",
    "    elif operation == '-':\n",
    "        print(a-b)\n",
    "    elif operation == '*':\n",
    "        print(a*b)\n",
    "    else:\n",
    "        print('Give the valid inputs')\n",
    "    "
   ]
  }
 ],
 "metadata": {
  "kernelspec": {
   "display_name": "Python 3",
   "language": "python",
   "name": "python3"
  },
  "language_info": {
   "codemirror_mode": {
    "name": "ipython",
    "version": 3
   },
   "file_extension": ".py",
   "mimetype": "text/x-python",
   "name": "python",
   "nbconvert_exporter": "python",
   "pygments_lexer": "ipython3",
   "version": "3.7.9"
  }
 },
 "nbformat": 4,
 "nbformat_minor": 4
}
