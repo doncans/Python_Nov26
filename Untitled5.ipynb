{
 "cells": [
  {
   "cell_type": "code",
   "execution_count": 1,
   "metadata": {},
   "outputs": [],
   "source": [
    "x = 10\n",
    "y = x"
   ]
  },
  {
   "cell_type": "code",
   "execution_count": 2,
   "metadata": {},
   "outputs": [],
   "source": [
    "del x"
   ]
  },
  {
   "cell_type": "code",
   "execution_count": 3,
   "metadata": {},
   "outputs": [
    {
     "ename": "NameError",
     "evalue": "name 'x' is not defined",
     "output_type": "error",
     "traceback": [
      "\u001b[1;31m---------------------------------------------------------------------------\u001b[0m",
      "\u001b[1;31mNameError\u001b[0m                                 Traceback (most recent call last)",
      "\u001b[1;32m<ipython-input-3-6fcf9dfbd479>\u001b[0m in \u001b[0;36m<module>\u001b[1;34m\u001b[0m\n\u001b[1;32m----> 1\u001b[1;33m \u001b[0mx\u001b[0m\u001b[1;33m\u001b[0m\u001b[1;33m\u001b[0m\u001b[0m\n\u001b[0m",
      "\u001b[1;31mNameError\u001b[0m: name 'x' is not defined"
     ]
    }
   ],
   "source": [
    "x"
   ]
  },
  {
   "cell_type": "code",
   "execution_count": 4,
   "metadata": {},
   "outputs": [
    {
     "data": {
      "text/plain": [
       "10"
      ]
     },
     "execution_count": 4,
     "metadata": {},
     "output_type": "execute_result"
    }
   ],
   "source": [
    "y"
   ]
  },
  {
   "cell_type": "code",
   "execution_count": 5,
   "metadata": {},
   "outputs": [],
   "source": [
    "del y"
   ]
  },
  {
   "cell_type": "code",
   "execution_count": 7,
   "metadata": {},
   "outputs": [
    {
     "data": {
      "text/plain": [
       "{'__name__': '__main__',\n",
       " '__doc__': 'Automatically created module for IPython interactive environment',\n",
       " '__package__': None,\n",
       " '__loader__': None,\n",
       " '__spec__': None,\n",
       " '__builtin__': <module 'builtins' (built-in)>,\n",
       " '__builtins__': <module 'builtins' (built-in)>,\n",
       " '_ih': ['',\n",
       "  'x = 10\\ny = x',\n",
       "  'del x',\n",
       "  'x',\n",
       "  'y',\n",
       "  'del y',\n",
       "  'local()',\n",
       "  'locals()'],\n",
       " '_oh': {4: 10},\n",
       " '_dh': ['I:\\\\Python-26Nov\\\\Python_Nov26'],\n",
       " 'In': ['',\n",
       "  'x = 10\\ny = x',\n",
       "  'del x',\n",
       "  'x',\n",
       "  'y',\n",
       "  'del y',\n",
       "  'local()',\n",
       "  'locals()'],\n",
       " 'Out': {4: 10},\n",
       " 'get_ipython': <bound method InteractiveShell.get_ipython of <ipykernel.zmqshell.ZMQInteractiveShell object at 0x000001E3CB7091C8>>,\n",
       " 'exit': <IPython.core.autocall.ZMQExitAutocall at 0x1e3cb778b88>,\n",
       " 'quit': <IPython.core.autocall.ZMQExitAutocall at 0x1e3cb778b88>,\n",
       " '_': 10,\n",
       " '__': '',\n",
       " '___': '',\n",
       " '_i': 'local()',\n",
       " '_ii': 'del y',\n",
       " '_iii': 'y',\n",
       " '_i1': 'x = 10\\ny = x',\n",
       " '_i2': 'del x',\n",
       " '_i3': 'x',\n",
       " '_i4': 'y',\n",
       " '_4': 10,\n",
       " '_i5': 'del y',\n",
       " '_i6': 'local()',\n",
       " '_i7': 'locals()'}"
      ]
     },
     "execution_count": 7,
     "metadata": {},
     "output_type": "execute_result"
    }
   ],
   "source": [
    "locals()"
   ]
  },
  {
   "cell_type": "code",
   "execution_count": 8,
   "metadata": {},
   "outputs": [
    {
     "ename": "NameError",
     "evalue": "name 'x' is not defined",
     "output_type": "error",
     "traceback": [
      "\u001b[1;31m---------------------------------------------------------------------------\u001b[0m",
      "\u001b[1;31mNameError\u001b[0m                                 Traceback (most recent call last)",
      "\u001b[1;32m<ipython-input-8-e3f71ffdf578>\u001b[0m in \u001b[0;36m<module>\u001b[1;34m\u001b[0m\n\u001b[1;32m----> 1\u001b[1;33m \u001b[0mid\u001b[0m\u001b[1;33m(\u001b[0m\u001b[0mx\u001b[0m\u001b[1;33m)\u001b[0m\u001b[1;33m\u001b[0m\u001b[1;33m\u001b[0m\u001b[0m\n\u001b[0m",
      "\u001b[1;31mNameError\u001b[0m: name 'x' is not defined"
     ]
    }
   ],
   "source": [
    "id(x)"
   ]
  },
  {
   "cell_type": "code",
   "execution_count": 10,
   "metadata": {},
   "outputs": [],
   "source": [
    "# stack memory\n",
    "# heap memory\n",
    "def fun():\n",
    "    x = 10\n",
    "    y = 30"
   ]
  },
  {
   "cell_type": "code",
   "execution_count": 11,
   "metadata": {},
   "outputs": [],
   "source": [
    "#multi tasking\n",
    "#multi threading\n",
    "#multi process"
   ]
  },
  {
   "cell_type": "code",
   "execution_count": 12,
   "metadata": {},
   "outputs": [],
   "source": [
    "from threading import Thread"
   ]
  },
  {
   "cell_type": "code",
   "execution_count": 13,
   "metadata": {},
   "outputs": [
    {
     "name": "stdout",
     "output_type": "stream",
     "text": [
      "Thrading ..........\n"
     ]
    }
   ],
   "source": [
    "def fun():\n",
    "    print(\"Thrading ..........\")\n",
    "t1 = Thread(target=fun)\n",
    "t1.start()"
   ]
  },
  {
   "cell_type": "code",
   "execution_count": 14,
   "metadata": {},
   "outputs": [
    {
     "name": "stdout",
     "output_type": "stream",
     "text": [
      "Hello Thread...........\n",
      "Hello Thread...........\n",
      "Hello Thread...........\n",
      "Hello Thread...........\n",
      "Hello Thread...........\n",
      "Hello Thread...........\n",
      "Hello Thread...........\n",
      "Hello Thread...........\n",
      "Hello Thread...........\n",
      "Hello Thread...........\n"
     ]
    }
   ],
   "source": [
    "class ThreadClass(Thread):\n",
    "    def run(self):\n",
    "        for x in range(10):\n",
    "            print(\"Hello Thread...........\")\n",
    "inst = ThreadClass()\n",
    "inst.start()\n",
    "inst.join()"
   ]
  },
  {
   "cell_type": "code",
   "execution_count": 15,
   "metadata": {},
   "outputs": [
    {
     "name": "stdout",
     "output_type": "stream",
     "text": [
      "0\n",
      "2\n",
      "4\n",
      "6\n",
      "8\n",
      "10\n",
      "12\n",
      "14\n",
      "16\n",
      "18\n",
      "0\n",
      "3\n",
      "6\n",
      "9\n",
      "12\n",
      "15\n",
      "18\n",
      "21\n",
      "24\n",
      "27\n",
      "20.193140268325806\n"
     ]
    }
   ],
   "source": [
    "import time\n",
    "def sqr(n):\n",
    "    for i in range(n):\n",
    "        time.sleep(1)\n",
    "        print(i*2)\n",
    "def cube(n):\n",
    "    for i in range(n):\n",
    "        time.sleep(1)\n",
    "        print(i*3)\n",
    "        \n",
    "n = 10\n",
    "s = time.time()\n",
    "sqr(n)\n",
    "cube(n)\n",
    "e = time.time()\n",
    "print(e-s)"
   ]
  },
  {
   "cell_type": "code",
   "execution_count": 17,
   "metadata": {},
   "outputs": [
    {
     "name": "stdout",
     "output_type": "stream",
     "text": [
      "0\n",
      "0\n",
      "32\n",
      "\n",
      "64\n",
      "\n",
      "69\n",
      "\n",
      "128\n",
      "\n",
      "1015\n",
      "\n",
      "1812\n",
      "\n",
      "2114\n",
      "\n",
      "1624\n",
      "\n",
      "2718\n",
      "\n",
      "10.096548557281494\n"
     ]
    }
   ],
   "source": [
    "import time\n",
    "def sqr(n):\n",
    "    for i in range(n):\n",
    "        time.sleep(1)\n",
    "        print(i*2)\n",
    "def cube(n):\n",
    "    for i in range(n):\n",
    "        time.sleep(1)\n",
    "        print(i*3)\n",
    "        \n",
    "n = 10\n",
    "s = time.time()\n",
    "# sqr(n)\n",
    "# cube(n)\n",
    "t1 = Thread(target=sqr, args=(n,))\n",
    "t2 = Thread(target=cube, args=(n,))\n",
    "t1.start()\n",
    "t2.start()\n",
    "t1.join()\n",
    "t2.join()\n",
    "e = time.time()\n",
    "print(e-s)"
   ]
  },
  {
   "cell_type": "code",
   "execution_count": null,
   "metadata": {},
   "outputs": [],
   "source": []
  }
 ],
 "metadata": {
  "kernelspec": {
   "display_name": "Python 3",
   "language": "python",
   "name": "python3"
  },
  "language_info": {
   "codemirror_mode": {
    "name": "ipython",
    "version": 3
   },
   "file_extension": ".py",
   "mimetype": "text/x-python",
   "name": "python",
   "nbconvert_exporter": "python",
   "pygments_lexer": "ipython3",
   "version": "3.7.9"
  }
 },
 "nbformat": 4,
 "nbformat_minor": 4
}
