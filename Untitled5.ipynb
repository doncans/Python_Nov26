{
 "cells": [
  {
   "cell_type": "code",
   "execution_count": 71,
   "metadata": {},
   "outputs": [
    {
     "data": {
      "text/plain": [
       "7.78"
      ]
     },
     "execution_count": 71,
     "metadata": {},
     "output_type": "execute_result"
    }
   ],
   "source": [
    "abs(-7.78)"
   ]
  },
  {
   "cell_type": "code",
   "execution_count": 72,
   "metadata": {},
   "outputs": [
    {
     "data": {
      "text/plain": [
       "9.999"
      ]
     },
     "execution_count": 72,
     "metadata": {},
     "output_type": "execute_result"
    }
   ],
   "source": [
    "abs(9.999)"
   ]
  },
  {
   "cell_type": "code",
   "execution_count": 73,
   "metadata": {},
   "outputs": [
    {
     "data": {
      "text/plain": [
       "False"
      ]
     },
     "execution_count": 73,
     "metadata": {},
     "output_type": "execute_result"
    }
   ],
   "source": [
    "all([True, False, True, False])"
   ]
  },
  {
   "cell_type": "code",
   "execution_count": 74,
   "metadata": {},
   "outputs": [
    {
     "data": {
      "text/plain": [
       "False"
      ]
     },
     "execution_count": 74,
     "metadata": {},
     "output_type": "execute_result"
    }
   ],
   "source": [
    "all([False, False])"
   ]
  },
  {
   "cell_type": "code",
   "execution_count": 75,
   "metadata": {},
   "outputs": [
    {
     "data": {
      "text/plain": [
       "True"
      ]
     },
     "execution_count": 75,
     "metadata": {},
     "output_type": "execute_result"
    }
   ],
   "source": [
    "all([True, True])"
   ]
  },
  {
   "cell_type": "code",
   "execution_count": 76,
   "metadata": {},
   "outputs": [
    {
     "data": {
      "text/plain": [
       "True"
      ]
     },
     "execution_count": 76,
     "metadata": {},
     "output_type": "execute_result"
    }
   ],
   "source": [
    "any([True, True])"
   ]
  },
  {
   "cell_type": "code",
   "execution_count": 77,
   "metadata": {},
   "outputs": [
    {
     "data": {
      "text/plain": [
       "True"
      ]
     },
     "execution_count": 77,
     "metadata": {},
     "output_type": "execute_result"
    }
   ],
   "source": [
    "any([True, False])"
   ]
  },
  {
   "cell_type": "code",
   "execution_count": 78,
   "metadata": {},
   "outputs": [
    {
     "data": {
      "text/plain": [
       "False"
      ]
     },
     "execution_count": 78,
     "metadata": {},
     "output_type": "execute_result"
    }
   ],
   "source": [
    "any([False, False])"
   ]
  },
  {
   "cell_type": "code",
   "execution_count": 79,
   "metadata": {},
   "outputs": [
    {
     "data": {
      "text/plain": [
       "True"
      ]
     },
     "execution_count": 79,
     "metadata": {},
     "output_type": "execute_result"
    }
   ],
   "source": [
    "bool(1)"
   ]
  },
  {
   "cell_type": "code",
   "execution_count": 80,
   "metadata": {},
   "outputs": [
    {
     "data": {
      "text/plain": [
       "False"
      ]
     },
     "execution_count": 80,
     "metadata": {},
     "output_type": "execute_result"
    }
   ],
   "source": [
    "bool(0)"
   ]
  },
  {
   "cell_type": "code",
   "execution_count": 81,
   "metadata": {},
   "outputs": [
    {
     "data": {
      "text/plain": [
       "False"
      ]
     },
     "execution_count": 81,
     "metadata": {},
     "output_type": "execute_result"
    }
   ],
   "source": [
    "bool('')"
   ]
  },
  {
   "cell_type": "code",
   "execution_count": 82,
   "metadata": {},
   "outputs": [
    {
     "data": {
      "text/plain": [
       "True"
      ]
     },
     "execution_count": 82,
     "metadata": {},
     "output_type": "execute_result"
    }
   ],
   "source": [
    "bool('Hi')"
   ]
  },
  {
   "cell_type": "code",
   "execution_count": 83,
   "metadata": {},
   "outputs": [],
   "source": [
    "if '':\n",
    "    print(\"Hi\")"
   ]
  },
  {
   "cell_type": "code",
   "execution_count": 84,
   "metadata": {},
   "outputs": [
    {
     "data": {
      "text/plain": [
       "False"
      ]
     },
     "execution_count": 84,
     "metadata": {},
     "output_type": "execute_result"
    }
   ],
   "source": [
    "callable(list)"
   ]
  },
  {
   "cell_type": "code",
   "execution_count": 85,
   "metadata": {},
   "outputs": [],
   "source": [
    "def fun():\n",
    "    z = 345\n",
    "    print(\"Hello\")"
   ]
  },
  {
   "cell_type": "code",
   "execution_count": 86,
   "metadata": {},
   "outputs": [
    {
     "data": {
      "text/plain": [
       "True"
      ]
     },
     "execution_count": 86,
     "metadata": {},
     "output_type": "execute_result"
    }
   ],
   "source": [
    "callable(fun)"
   ]
  },
  {
   "cell_type": "code",
   "execution_count": 87,
   "metadata": {},
   "outputs": [],
   "source": [
    "var = 66"
   ]
  },
  {
   "cell_type": "code",
   "execution_count": 88,
   "metadata": {},
   "outputs": [
    {
     "data": {
      "text/plain": [
       "False"
      ]
     },
     "execution_count": 88,
     "metadata": {},
     "output_type": "execute_result"
    }
   ],
   "source": [
    "callable(var)"
   ]
  },
  {
   "cell_type": "code",
   "execution_count": 89,
   "metadata": {},
   "outputs": [
    {
     "data": {
      "text/plain": [
       "'-'"
      ]
     },
     "execution_count": 89,
     "metadata": {},
     "output_type": "execute_result"
    }
   ],
   "source": [
    "chr(45)"
   ]
  },
  {
   "cell_type": "code",
   "execution_count": 90,
   "metadata": {},
   "outputs": [
    {
     "data": {
      "text/plain": [
       "65"
      ]
     },
     "execution_count": 90,
     "metadata": {},
     "output_type": "execute_result"
    }
   ],
   "source": [
    "ord('A')"
   ]
  },
  {
   "cell_type": "code",
   "execution_count": 91,
   "metadata": {},
   "outputs": [
    {
     "data": {
      "text/plain": [
       "'A'"
      ]
     },
     "execution_count": 91,
     "metadata": {},
     "output_type": "execute_result"
    }
   ],
   "source": [
    "chr(65)"
   ]
  },
  {
   "cell_type": "code",
   "execution_count": 92,
   "metadata": {},
   "outputs": [],
   "source": [
    "# @classmethod\n",
    "# @staticmethod"
   ]
  },
  {
   "cell_type": "code",
   "execution_count": 93,
   "metadata": {},
   "outputs": [
    {
     "ename": "NameError",
     "evalue": "name 'filename' is not defined",
     "output_type": "error",
     "traceback": [
      "\u001b[1;31m---------------------------------------------------------------------------\u001b[0m",
      "\u001b[1;31mNameError\u001b[0m                                 Traceback (most recent call last)",
      "\u001b[1;32m<ipython-input-93-7480bf4097ac>\u001b[0m in \u001b[0;36m<module>\u001b[1;34m\u001b[0m\n\u001b[1;32m----> 1\u001b[1;33m \u001b[0mfile\u001b[0m \u001b[1;33m=\u001b[0m \u001b[0mcompile\u001b[0m\u001b[1;33m(\u001b[0m\u001b[0mfilename\u001b[0m\u001b[1;33m)\u001b[0m\u001b[1;33m\u001b[0m\u001b[1;33m\u001b[0m\u001b[0m\n\u001b[0m\u001b[0;32m      2\u001b[0m \u001b[0mexec\u001b[0m\u001b[1;33m(\u001b[0m\u001b[0mfile\u001b[0m\u001b[1;33m)\u001b[0m\u001b[1;33m\u001b[0m\u001b[1;33m\u001b[0m\u001b[0m\n",
      "\u001b[1;31mNameError\u001b[0m: name 'filename' is not defined"
     ]
    }
   ],
   "source": [
    "file = compile(filename)\n",
    "exec(file)"
   ]
  },
  {
   "cell_type": "code",
   "execution_count": 94,
   "metadata": {},
   "outputs": [
    {
     "name": "stdout",
     "output_type": "stream",
     "text": [
      "Help on built-in function delattr in module builtins:\n",
      "\n",
      "delattr(obj, name, /)\n",
      "    Deletes the named attribute from the given object.\n",
      "    \n",
      "    delattr(x, 'y') is equivalent to ``del x.y''\n",
      "\n"
     ]
    }
   ],
   "source": [
    "help(delattr)"
   ]
  },
  {
   "cell_type": "code",
   "execution_count": 95,
   "metadata": {},
   "outputs": [
    {
     "ename": "TypeError",
     "evalue": "delattr expected 2 arguments, got 1",
     "output_type": "error",
     "traceback": [
      "\u001b[1;31m---------------------------------------------------------------------------\u001b[0m",
      "\u001b[1;31mTypeError\u001b[0m                                 Traceback (most recent call last)",
      "\u001b[1;32m<ipython-input-95-b7c954726cff>\u001b[0m in \u001b[0;36m<module>\u001b[1;34m\u001b[0m\n\u001b[1;32m----> 1\u001b[1;33m \u001b[0mdelattr\u001b[0m\u001b[1;33m(\u001b[0m\u001b[0mfun\u001b[0m\u001b[1;33m)\u001b[0m\u001b[1;33m\u001b[0m\u001b[1;33m\u001b[0m\u001b[0m\n\u001b[0m",
      "\u001b[1;31mTypeError\u001b[0m: delattr expected 2 arguments, got 1"
     ]
    }
   ],
   "source": [
    "delattr(fun)"
   ]
  },
  {
   "cell_type": "code",
   "execution_count": 96,
   "metadata": {},
   "outputs": [
    {
     "name": "stdout",
     "output_type": "stream",
     "text": [
      "x =  10\n",
      "y =  -5\n",
      "z =  0\n"
     ]
    }
   ],
   "source": [
    "class Coordinate:\n",
    "  x = 10\n",
    "  y = -5\n",
    "  z = 0\n",
    "\n",
    "point1 = Coordinate() \n",
    "\n",
    "print('x = ',point1.x)\n",
    "print('y = ',point1.y)\n",
    "print('z = ',point1.z)"
   ]
  },
  {
   "cell_type": "code",
   "execution_count": 97,
   "metadata": {},
   "outputs": [],
   "source": [
    "delattr(Coordinate, 'x')"
   ]
  },
  {
   "cell_type": "code",
   "execution_count": 98,
   "metadata": {},
   "outputs": [
    {
     "ename": "AttributeError",
     "evalue": "'Coordinate' object has no attribute 'x'",
     "output_type": "error",
     "traceback": [
      "\u001b[1;31m---------------------------------------------------------------------------\u001b[0m",
      "\u001b[1;31mAttributeError\u001b[0m                            Traceback (most recent call last)",
      "\u001b[1;32m<ipython-input-98-50f88613402b>\u001b[0m in \u001b[0;36m<module>\u001b[1;34m\u001b[0m\n\u001b[1;32m----> 1\u001b[1;33m \u001b[0mprint\u001b[0m\u001b[1;33m(\u001b[0m\u001b[1;34m'x = '\u001b[0m\u001b[1;33m,\u001b[0m\u001b[0mpoint1\u001b[0m\u001b[1;33m.\u001b[0m\u001b[0mx\u001b[0m\u001b[1;33m)\u001b[0m\u001b[1;33m\u001b[0m\u001b[1;33m\u001b[0m\u001b[0m\n\u001b[0m\u001b[0;32m      2\u001b[0m \u001b[0mprint\u001b[0m\u001b[1;33m(\u001b[0m\u001b[1;34m'y = '\u001b[0m\u001b[1;33m,\u001b[0m\u001b[0mpoint1\u001b[0m\u001b[1;33m.\u001b[0m\u001b[0my\u001b[0m\u001b[1;33m)\u001b[0m\u001b[1;33m\u001b[0m\u001b[1;33m\u001b[0m\u001b[0m\n\u001b[0;32m      3\u001b[0m \u001b[0mprint\u001b[0m\u001b[1;33m(\u001b[0m\u001b[1;34m'z = '\u001b[0m\u001b[1;33m,\u001b[0m\u001b[0mpoint1\u001b[0m\u001b[1;33m.\u001b[0m\u001b[0mz\u001b[0m\u001b[1;33m)\u001b[0m\u001b[1;33m\u001b[0m\u001b[1;33m\u001b[0m\u001b[0m\n",
      "\u001b[1;31mAttributeError\u001b[0m: 'Coordinate' object has no attribute 'x'"
     ]
    }
   ],
   "source": [
    "print('x = ',point1.x)\n",
    "print('y = ',point1.y)\n",
    "print('z = ',point1.z)"
   ]
  },
  {
   "cell_type": "code",
   "execution_count": 99,
   "metadata": {},
   "outputs": [
    {
     "name": "stdout",
     "output_type": "stream",
     "text": [
      "0 hi\n",
      "1 hello\n",
      "2 how are you\n"
     ]
    }
   ],
   "source": [
    "for i, j in enumerate(['hi', 'hello', 'how are you']):\n",
    "    print(i, j)"
   ]
  },
  {
   "cell_type": "code",
   "execution_count": 100,
   "metadata": {},
   "outputs": [
    {
     "name": "stdout",
     "output_type": "stream",
     "text": [
      "number 23 devided by 90\n"
     ]
    }
   ],
   "source": [
    "x = 23\n",
    "y = 90\n",
    "print(\"number %s devided by %s\"%(x,y))"
   ]
  },
  {
   "cell_type": "code",
   "execution_count": 101,
   "metadata": {},
   "outputs": [
    {
     "name": "stdout",
     "output_type": "stream",
     "text": [
      "23 number devided by 90\n"
     ]
    }
   ],
   "source": [
    "print(\"{} number devided by {}\".format(x,y))"
   ]
  },
  {
   "cell_type": "code",
   "execution_count": 102,
   "metadata": {},
   "outputs": [
    {
     "name": "stdout",
     "output_type": "stream",
     "text": [
      "90 number devided by 23\n"
     ]
    }
   ],
   "source": [
    "print(\"{1} number devided by {0}\".format(x,y))"
   ]
  },
  {
   "cell_type": "code",
   "execution_count": 103,
   "metadata": {},
   "outputs": [
    {
     "data": {
      "text/plain": [
       "'23 is devided by 90'"
      ]
     },
     "execution_count": 103,
     "metadata": {},
     "output_type": "execute_result"
    }
   ],
   "source": [
    "f\"{x} is devided by {y}\""
   ]
  },
  {
   "cell_type": "code",
   "execution_count": 104,
   "metadata": {},
   "outputs": [
    {
     "name": "stdout",
     "output_type": "stream",
     "text": [
      "number 23.000000 devided by 90.000000\n"
     ]
    }
   ],
   "source": [
    "print(\"number %f devided by %f\"%(x,y))"
   ]
  },
  {
   "cell_type": "code",
   "execution_count": 105,
   "metadata": {},
   "outputs": [
    {
     "name": "stdout",
     "output_type": "stream",
     "text": [
      "number 23 devided by 90\n"
     ]
    }
   ],
   "source": [
    "print(\"number %d devided by %d\"%(x,y))"
   ]
  },
  {
   "cell_type": "code",
   "execution_count": 106,
   "metadata": {},
   "outputs": [
    {
     "data": {
      "text/plain": [
       "{'__name__': '__main__',\n",
       " '__doc__': 'Automatically created module for IPython interactive environment',\n",
       " '__package__': None,\n",
       " '__loader__': None,\n",
       " '__spec__': None,\n",
       " '__builtin__': <module 'builtins' (built-in)>,\n",
       " '__builtins__': <module 'builtins' (built-in)>,\n",
       " '_ih': ['',\n",
       "  'list = [1,2,3,4]',\n",
       "  'list',\n",
       "  'abs(-7.78)',\n",
       "  'abs(9.999)',\n",
       "  'all([True, False, True, False])',\n",
       "  'all(False, False)',\n",
       "  'all([False, False])',\n",
       "  'all([True, True])',\n",
       "  'any([True, True])',\n",
       "  'any([True, False])',\n",
       "  'any([False, False])',\n",
       "  'bool(1)',\n",
       "  'bool(0)',\n",
       "  \"bool('')\",\n",
       "  \"bool('Hi')\",\n",
       "  'if \\'Hi\\':\\n    print(\"Hi\")',\n",
       "  'if \\'\\':\\n    print(\"Hi\")',\n",
       "  'callable(list)',\n",
       "  'def fun():\\n    print(\"Hello\")',\n",
       "  'callable(fun)',\n",
       "  'var = 66',\n",
       "  'callable(var)',\n",
       "  \"chr('H')\",\n",
       "  'chr(45)',\n",
       "  \"ord('A')\",\n",
       "  'chr(65)',\n",
       "  '# @classmethod\\n# @staticmethod',\n",
       "  'file = compile(filename)\\nexec(file)',\n",
       "  'delattr(list)',\n",
       "  'help(delattr())',\n",
       "  'help(delattr)',\n",
       "  'def fun():\\n    z = 345\\n    print(\"Hello\")',\n",
       "  \"delattr(fun, 'z')\",\n",
       "  'delattr(fun, z)',\n",
       "  'delattr(fun)',\n",
       "  \"class Coordinate:\\n  x = 10\\n  y = -5\\n  z = 0\\n\\npoint1 = Coordinate() \\n\\nprint('x = ',point1.x)\\nprint('y = ',point1.y)\\nprint('z = ',point1.z)\",\n",
       "  \"delattr(point1, 'x')\",\n",
       "  \"delattr(Coordinate, 'x')\",\n",
       "  \"print('x = ',point1.x)\\nprint('y = ',point1.y)\\nprint('z = ',point1.z)\",\n",
       "  \"for i, j in enumerate(['hi', 'hello', 'how are you']):\\n    print(i, j)\",\n",
       "  'x = 23\\ny = 90\\nprint(\"number %s devided by %s\"%(x,y))',\n",
       "  'print(\"{} number devided by {}\".format(x,y))',\n",
       "  'print(\"{0} number devided by {1}\".format(x,y))',\n",
       "  'print(\"{1} number devided by {0}\".format(x,y))',\n",
       "  'f\"{x} is devided by {y}\"',\n",
       "  'print(\"number %f devided by %f\"%(x,y))',\n",
       "  'print(\"number %d devided by %d\"%(x,y))',\n",
       "  'locals()',\n",
       "  'globals()',\n",
       "  'hasattr({\\'a\\':\"b\"})',\n",
       "  \"class Person:\\n    age = 23\\n    name = 'Adam'\\n\\nperson = Person()\\n\\nprint('Person has age?:', hasattr(person, 'age'))\\nprint('Person has salary?:', hasattr(person, 'salary'))\",\n",
       "  'hash({2,3})',\n",
       "  'hash((2,3))',\n",
       "  'hash([2,3])',\n",
       "  \"hash('yuyu')\",\n",
       "  \"hash({'a':'b'})\",\n",
       "  'hash(56)',\n",
       "  'hex(56)',\n",
       "  'list',\n",
       "  'l1 = [2,4,5,6]',\n",
       "  'isinstance(list, l1)',\n",
       "  'isinstance(l1, list)',\n",
       "  'isinstance(list, l1)',\n",
       "  'isinstance(int, l1)',\n",
       "  'isinstance(int, 3)',\n",
       "  'isinstance(list,l1)',\n",
       "  'isinstance(int,30)',\n",
       "  'isinstance(30,int)',\n",
       "  'isinstance(l1,int)',\n",
       "  'isinstance(l1,list)',\n",
       "  'abs(-7.78)',\n",
       "  'abs(9.999)',\n",
       "  'all([True, False, True, False])',\n",
       "  'all([False, False])',\n",
       "  'all([True, True])',\n",
       "  'any([True, True])',\n",
       "  'any([True, False])',\n",
       "  'any([False, False])',\n",
       "  'bool(1)',\n",
       "  'bool(0)',\n",
       "  \"bool('')\",\n",
       "  \"bool('Hi')\",\n",
       "  'if \\'\\':\\n    print(\"Hi\")',\n",
       "  'callable(list)',\n",
       "  'def fun():\\n    z = 345\\n    print(\"Hello\")',\n",
       "  'callable(fun)',\n",
       "  'var = 66',\n",
       "  'callable(var)',\n",
       "  'chr(45)',\n",
       "  \"ord('A')\",\n",
       "  'chr(65)',\n",
       "  '# @classmethod\\n# @staticmethod',\n",
       "  'file = compile(filename)\\nexec(file)',\n",
       "  'help(delattr)',\n",
       "  'delattr(fun)',\n",
       "  \"class Coordinate:\\n  x = 10\\n  y = -5\\n  z = 0\\n\\npoint1 = Coordinate() \\n\\nprint('x = ',point1.x)\\nprint('y = ',point1.y)\\nprint('z = ',point1.z)\",\n",
       "  \"delattr(Coordinate, 'x')\",\n",
       "  \"print('x = ',point1.x)\\nprint('y = ',point1.y)\\nprint('z = ',point1.z)\",\n",
       "  \"for i, j in enumerate(['hi', 'hello', 'how are you']):\\n    print(i, j)\",\n",
       "  'x = 23\\ny = 90\\nprint(\"number %s devided by %s\"%(x,y))',\n",
       "  'print(\"{} number devided by {}\".format(x,y))',\n",
       "  'print(\"{1} number devided by {0}\".format(x,y))',\n",
       "  'f\"{x} is devided by {y}\"',\n",
       "  'print(\"number %f devided by %f\"%(x,y))',\n",
       "  'print(\"number %d devided by %d\"%(x,y))',\n",
       "  'locals()'],\n",
       " '_oh': {2: [1, 2, 3, 4],\n",
       "  3: 7.78,\n",
       "  4: 9.999,\n",
       "  5: False,\n",
       "  7: False,\n",
       "  8: True,\n",
       "  9: True,\n",
       "  10: True,\n",
       "  11: False,\n",
       "  12: True,\n",
       "  13: False,\n",
       "  14: False,\n",
       "  15: True,\n",
       "  18: False,\n",
       "  20: True,\n",
       "  22: False,\n",
       "  24: '-',\n",
       "  25: 65,\n",
       "  26: 'A',\n",
       "  45: '23 is devided by 90',\n",
       "  48: {...},\n",
       "  49: {...},\n",
       "  53: 3713082714463740756,\n",
       "  55: -8698559694311966544,\n",
       "  57: 56,\n",
       "  58: '0x38',\n",
       "  59: [1, 2, 3, 4],\n",
       "  68: True,\n",
       "  69: False,\n",
       "  71: 7.78,\n",
       "  72: 9.999,\n",
       "  73: False,\n",
       "  74: False,\n",
       "  75: True,\n",
       "  76: True,\n",
       "  77: True,\n",
       "  78: False,\n",
       "  79: True,\n",
       "  80: False,\n",
       "  81: False,\n",
       "  82: True,\n",
       "  84: False,\n",
       "  86: True,\n",
       "  88: False,\n",
       "  89: '-',\n",
       "  90: 65,\n",
       "  91: 'A',\n",
       "  103: '23 is devided by 90'},\n",
       " '_dh': ['I:\\\\Python-26Nov\\\\Python_Nov26'],\n",
       " 'In': ['',\n",
       "  'list = [1,2,3,4]',\n",
       "  'list',\n",
       "  'abs(-7.78)',\n",
       "  'abs(9.999)',\n",
       "  'all([True, False, True, False])',\n",
       "  'all(False, False)',\n",
       "  'all([False, False])',\n",
       "  'all([True, True])',\n",
       "  'any([True, True])',\n",
       "  'any([True, False])',\n",
       "  'any([False, False])',\n",
       "  'bool(1)',\n",
       "  'bool(0)',\n",
       "  \"bool('')\",\n",
       "  \"bool('Hi')\",\n",
       "  'if \\'Hi\\':\\n    print(\"Hi\")',\n",
       "  'if \\'\\':\\n    print(\"Hi\")',\n",
       "  'callable(list)',\n",
       "  'def fun():\\n    print(\"Hello\")',\n",
       "  'callable(fun)',\n",
       "  'var = 66',\n",
       "  'callable(var)',\n",
       "  \"chr('H')\",\n",
       "  'chr(45)',\n",
       "  \"ord('A')\",\n",
       "  'chr(65)',\n",
       "  '# @classmethod\\n# @staticmethod',\n",
       "  'file = compile(filename)\\nexec(file)',\n",
       "  'delattr(list)',\n",
       "  'help(delattr())',\n",
       "  'help(delattr)',\n",
       "  'def fun():\\n    z = 345\\n    print(\"Hello\")',\n",
       "  \"delattr(fun, 'z')\",\n",
       "  'delattr(fun, z)',\n",
       "  'delattr(fun)',\n",
       "  \"class Coordinate:\\n  x = 10\\n  y = -5\\n  z = 0\\n\\npoint1 = Coordinate() \\n\\nprint('x = ',point1.x)\\nprint('y = ',point1.y)\\nprint('z = ',point1.z)\",\n",
       "  \"delattr(point1, 'x')\",\n",
       "  \"delattr(Coordinate, 'x')\",\n",
       "  \"print('x = ',point1.x)\\nprint('y = ',point1.y)\\nprint('z = ',point1.z)\",\n",
       "  \"for i, j in enumerate(['hi', 'hello', 'how are you']):\\n    print(i, j)\",\n",
       "  'x = 23\\ny = 90\\nprint(\"number %s devided by %s\"%(x,y))',\n",
       "  'print(\"{} number devided by {}\".format(x,y))',\n",
       "  'print(\"{0} number devided by {1}\".format(x,y))',\n",
       "  'print(\"{1} number devided by {0}\".format(x,y))',\n",
       "  'f\"{x} is devided by {y}\"',\n",
       "  'print(\"number %f devided by %f\"%(x,y))',\n",
       "  'print(\"number %d devided by %d\"%(x,y))',\n",
       "  'locals()',\n",
       "  'globals()',\n",
       "  'hasattr({\\'a\\':\"b\"})',\n",
       "  \"class Person:\\n    age = 23\\n    name = 'Adam'\\n\\nperson = Person()\\n\\nprint('Person has age?:', hasattr(person, 'age'))\\nprint('Person has salary?:', hasattr(person, 'salary'))\",\n",
       "  'hash({2,3})',\n",
       "  'hash((2,3))',\n",
       "  'hash([2,3])',\n",
       "  \"hash('yuyu')\",\n",
       "  \"hash({'a':'b'})\",\n",
       "  'hash(56)',\n",
       "  'hex(56)',\n",
       "  'list',\n",
       "  'l1 = [2,4,5,6]',\n",
       "  'isinstance(list, l1)',\n",
       "  'isinstance(l1, list)',\n",
       "  'isinstance(list, l1)',\n",
       "  'isinstance(int, l1)',\n",
       "  'isinstance(int, 3)',\n",
       "  'isinstance(list,l1)',\n",
       "  'isinstance(int,30)',\n",
       "  'isinstance(30,int)',\n",
       "  'isinstance(l1,int)',\n",
       "  'isinstance(l1,list)',\n",
       "  'abs(-7.78)',\n",
       "  'abs(9.999)',\n",
       "  'all([True, False, True, False])',\n",
       "  'all([False, False])',\n",
       "  'all([True, True])',\n",
       "  'any([True, True])',\n",
       "  'any([True, False])',\n",
       "  'any([False, False])',\n",
       "  'bool(1)',\n",
       "  'bool(0)',\n",
       "  \"bool('')\",\n",
       "  \"bool('Hi')\",\n",
       "  'if \\'\\':\\n    print(\"Hi\")',\n",
       "  'callable(list)',\n",
       "  'def fun():\\n    z = 345\\n    print(\"Hello\")',\n",
       "  'callable(fun)',\n",
       "  'var = 66',\n",
       "  'callable(var)',\n",
       "  'chr(45)',\n",
       "  \"ord('A')\",\n",
       "  'chr(65)',\n",
       "  '# @classmethod\\n# @staticmethod',\n",
       "  'file = compile(filename)\\nexec(file)',\n",
       "  'help(delattr)',\n",
       "  'delattr(fun)',\n",
       "  \"class Coordinate:\\n  x = 10\\n  y = -5\\n  z = 0\\n\\npoint1 = Coordinate() \\n\\nprint('x = ',point1.x)\\nprint('y = ',point1.y)\\nprint('z = ',point1.z)\",\n",
       "  \"delattr(Coordinate, 'x')\",\n",
       "  \"print('x = ',point1.x)\\nprint('y = ',point1.y)\\nprint('z = ',point1.z)\",\n",
       "  \"for i, j in enumerate(['hi', 'hello', 'how are you']):\\n    print(i, j)\",\n",
       "  'x = 23\\ny = 90\\nprint(\"number %s devided by %s\"%(x,y))',\n",
       "  'print(\"{} number devided by {}\".format(x,y))',\n",
       "  'print(\"{1} number devided by {0}\".format(x,y))',\n",
       "  'f\"{x} is devided by {y}\"',\n",
       "  'print(\"number %f devided by %f\"%(x,y))',\n",
       "  'print(\"number %d devided by %d\"%(x,y))',\n",
       "  'locals()'],\n",
       " 'Out': {2: [1, 2, 3, 4],\n",
       "  3: 7.78,\n",
       "  4: 9.999,\n",
       "  5: False,\n",
       "  7: False,\n",
       "  8: True,\n",
       "  9: True,\n",
       "  10: True,\n",
       "  11: False,\n",
       "  12: True,\n",
       "  13: False,\n",
       "  14: False,\n",
       "  15: True,\n",
       "  18: False,\n",
       "  20: True,\n",
       "  22: False,\n",
       "  24: '-',\n",
       "  25: 65,\n",
       "  26: 'A',\n",
       "  45: '23 is devided by 90',\n",
       "  48: {...},\n",
       "  49: {...},\n",
       "  53: 3713082714463740756,\n",
       "  55: -8698559694311966544,\n",
       "  57: 56,\n",
       "  58: '0x38',\n",
       "  59: [1, 2, 3, 4],\n",
       "  68: True,\n",
       "  69: False,\n",
       "  71: 7.78,\n",
       "  72: 9.999,\n",
       "  73: False,\n",
       "  74: False,\n",
       "  75: True,\n",
       "  76: True,\n",
       "  77: True,\n",
       "  78: False,\n",
       "  79: True,\n",
       "  80: False,\n",
       "  81: False,\n",
       "  82: True,\n",
       "  84: False,\n",
       "  86: True,\n",
       "  88: False,\n",
       "  89: '-',\n",
       "  90: 65,\n",
       "  91: 'A',\n",
       "  103: '23 is devided by 90'},\n",
       " 'get_ipython': <bound method InteractiveShell.get_ipython of <ipykernel.zmqshell.ZMQInteractiveShell object at 0x0000016B7AD46CC8>>,\n",
       " 'exit': <IPython.core.autocall.ZMQExitAutocall at 0x16b7adb8bc8>,\n",
       " 'quit': <IPython.core.autocall.ZMQExitAutocall at 0x16b7adb8bc8>,\n",
       " '_': '23 is devided by 90',\n",
       " '__': 'A',\n",
       " '___': 65,\n",
       " '_i': 'print(\"number %d devided by %d\"%(x,y))',\n",
       " '_ii': 'print(\"number %f devided by %f\"%(x,y))',\n",
       " '_iii': 'f\"{x} is devided by {y}\"',\n",
       " '_i1': 'list = [1,2,3,4]',\n",
       " 'list': [1, 2, 3, 4],\n",
       " '_i2': 'list',\n",
       " '_2': [1, 2, 3, 4],\n",
       " '_i3': 'abs(-7.78)',\n",
       " '_3': 7.78,\n",
       " '_i4': 'abs(9.999)',\n",
       " '_4': 9.999,\n",
       " '_i5': 'all([True, False, True, False])',\n",
       " '_5': False,\n",
       " '_i6': 'all(False, False)',\n",
       " '_i7': 'all([False, False])',\n",
       " '_7': False,\n",
       " '_i8': 'all([True, True])',\n",
       " '_8': True,\n",
       " '_i9': 'any([True, True])',\n",
       " '_9': True,\n",
       " '_i10': 'any([True, False])',\n",
       " '_10': True,\n",
       " '_i11': 'any([False, False])',\n",
       " '_11': False,\n",
       " '_i12': 'bool(1)',\n",
       " '_12': True,\n",
       " '_i13': 'bool(0)',\n",
       " '_13': False,\n",
       " '_i14': \"bool('')\",\n",
       " '_14': False,\n",
       " '_i15': \"bool('Hi')\",\n",
       " '_15': True,\n",
       " '_i16': 'if \\'Hi\\':\\n    print(\"Hi\")',\n",
       " '_i17': 'if \\'\\':\\n    print(\"Hi\")',\n",
       " '_i18': 'callable(list)',\n",
       " '_18': False,\n",
       " '_i19': 'def fun():\\n    print(\"Hello\")',\n",
       " 'fun': <function __main__.fun()>,\n",
       " '_i20': 'callable(fun)',\n",
       " '_20': True,\n",
       " '_i21': 'var = 66',\n",
       " 'var': 66,\n",
       " '_i22': 'callable(var)',\n",
       " '_22': False,\n",
       " '_i23': \"chr('H')\",\n",
       " '_i24': 'chr(45)',\n",
       " '_24': '-',\n",
       " '_i25': \"ord('A')\",\n",
       " '_25': 65,\n",
       " '_i26': 'chr(65)',\n",
       " '_26': 'A',\n",
       " '_i27': '# @classmethod\\n# @staticmethod',\n",
       " '_i28': 'file = compile(filename)\\nexec(file)',\n",
       " '_i29': 'delattr(list)',\n",
       " '_i30': 'help(delattr())',\n",
       " '_i31': 'help(delattr)',\n",
       " '_i32': 'def fun():\\n    z = 345\\n    print(\"Hello\")',\n",
       " '_i33': \"delattr(fun, 'z')\",\n",
       " '_i34': 'delattr(fun, z)',\n",
       " '_i35': 'delattr(fun)',\n",
       " '_i36': \"class Coordinate:\\n  x = 10\\n  y = -5\\n  z = 0\\n\\npoint1 = Coordinate() \\n\\nprint('x = ',point1.x)\\nprint('y = ',point1.y)\\nprint('z = ',point1.z)\",\n",
       " 'Coordinate': __main__.Coordinate,\n",
       " 'point1': <__main__.Coordinate at 0x16b7bf0b948>,\n",
       " '_i37': \"delattr(point1, 'x')\",\n",
       " '_i38': \"delattr(Coordinate, 'x')\",\n",
       " '_i39': \"print('x = ',point1.x)\\nprint('y = ',point1.y)\\nprint('z = ',point1.z)\",\n",
       " '_i40': \"for i, j in enumerate(['hi', 'hello', 'how are you']):\\n    print(i, j)\",\n",
       " 'i': 2,\n",
       " 'j': 'how are you',\n",
       " '_i41': 'x = 23\\ny = 90\\nprint(\"number %s devided by %s\"%(x,y))',\n",
       " 'x': 23,\n",
       " 'y': 90,\n",
       " '_i42': 'print(\"{} number devided by {}\".format(x,y))',\n",
       " '_i43': 'print(\"{0} number devided by {1}\".format(x,y))',\n",
       " '_i44': 'print(\"{1} number devided by {0}\".format(x,y))',\n",
       " '_i45': 'f\"{x} is devided by {y}\"',\n",
       " '_45': '23 is devided by 90',\n",
       " '_i46': 'print(\"number %f devided by %f\"%(x,y))',\n",
       " '_i47': 'print(\"number %d devided by %d\"%(x,y))',\n",
       " '_i48': 'locals()',\n",
       " '_48': {...},\n",
       " '_i49': 'globals()',\n",
       " '_49': {...},\n",
       " '_i50': 'hasattr({\\'a\\':\"b\"})',\n",
       " '_i51': \"class Person:\\n    age = 23\\n    name = 'Adam'\\n\\nperson = Person()\\n\\nprint('Person has age?:', hasattr(person, 'age'))\\nprint('Person has salary?:', hasattr(person, 'salary'))\",\n",
       " 'Person': __main__.Person,\n",
       " 'person': <__main__.Person at 0x16b7bf2fdc8>,\n",
       " '_i52': 'hash({2,3})',\n",
       " '_i53': 'hash((2,3))',\n",
       " '_53': 3713082714463740756,\n",
       " '_i54': 'hash([2,3])',\n",
       " '_i55': \"hash('yuyu')\",\n",
       " '_55': -8698559694311966544,\n",
       " '_i56': \"hash({'a':'b'})\",\n",
       " '_i57': 'hash(56)',\n",
       " '_57': 56,\n",
       " '_i58': 'hex(56)',\n",
       " '_58': '0x38',\n",
       " '_i59': 'list',\n",
       " '_59': [1, 2, 3, 4],\n",
       " '_i60': 'l1 = [2,4,5,6]',\n",
       " 'l1': [2, 4, 5, 6],\n",
       " '_i61': 'isinstance(list, l1)',\n",
       " '_i62': 'isinstance(l1, list)',\n",
       " '_i63': 'isinstance(list, l1)',\n",
       " '_i64': 'isinstance(int, l1)',\n",
       " '_i65': 'isinstance(int, 3)',\n",
       " '_i66': 'isinstance(list,l1)',\n",
       " '_i67': 'isinstance(int,30)',\n",
       " '_i68': 'isinstance(30,int)',\n",
       " '_68': True,\n",
       " '_i69': 'isinstance(l1,int)',\n",
       " '_69': False,\n",
       " '_i70': 'isinstance(l1,list)',\n",
       " '_i71': 'abs(-7.78)',\n",
       " '_71': 7.78,\n",
       " '_i72': 'abs(9.999)',\n",
       " '_72': 9.999,\n",
       " '_i73': 'all([True, False, True, False])',\n",
       " '_73': False,\n",
       " '_i74': 'all([False, False])',\n",
       " '_74': False,\n",
       " '_i75': 'all([True, True])',\n",
       " '_75': True,\n",
       " '_i76': 'any([True, True])',\n",
       " '_76': True,\n",
       " '_i77': 'any([True, False])',\n",
       " '_77': True,\n",
       " '_i78': 'any([False, False])',\n",
       " '_78': False,\n",
       " '_i79': 'bool(1)',\n",
       " '_79': True,\n",
       " '_i80': 'bool(0)',\n",
       " '_80': False,\n",
       " '_i81': \"bool('')\",\n",
       " '_81': False,\n",
       " '_i82': \"bool('Hi')\",\n",
       " '_82': True,\n",
       " '_i83': 'if \\'\\':\\n    print(\"Hi\")',\n",
       " '_i84': 'callable(list)',\n",
       " '_84': False,\n",
       " '_i85': 'def fun():\\n    z = 345\\n    print(\"Hello\")',\n",
       " '_i86': 'callable(fun)',\n",
       " '_86': True,\n",
       " '_i87': 'var = 66',\n",
       " '_i88': 'callable(var)',\n",
       " '_88': False,\n",
       " '_i89': 'chr(45)',\n",
       " '_89': '-',\n",
       " '_i90': \"ord('A')\",\n",
       " '_90': 65,\n",
       " '_i91': 'chr(65)',\n",
       " '_91': 'A',\n",
       " '_i92': '# @classmethod\\n# @staticmethod',\n",
       " '_i93': 'file = compile(filename)\\nexec(file)',\n",
       " '_i94': 'help(delattr)',\n",
       " '_i95': 'delattr(fun)',\n",
       " '_i96': \"class Coordinate:\\n  x = 10\\n  y = -5\\n  z = 0\\n\\npoint1 = Coordinate() \\n\\nprint('x = ',point1.x)\\nprint('y = ',point1.y)\\nprint('z = ',point1.z)\",\n",
       " '_i97': \"delattr(Coordinate, 'x')\",\n",
       " '_i98': \"print('x = ',point1.x)\\nprint('y = ',point1.y)\\nprint('z = ',point1.z)\",\n",
       " '_i99': \"for i, j in enumerate(['hi', 'hello', 'how are you']):\\n    print(i, j)\",\n",
       " '_i100': 'x = 23\\ny = 90\\nprint(\"number %s devided by %s\"%(x,y))',\n",
       " '_i101': 'print(\"{} number devided by {}\".format(x,y))',\n",
       " '_i102': 'print(\"{1} number devided by {0}\".format(x,y))',\n",
       " '_i103': 'f\"{x} is devided by {y}\"',\n",
       " '_103': '23 is devided by 90',\n",
       " '_i104': 'print(\"number %f devided by %f\"%(x,y))',\n",
       " '_i105': 'print(\"number %d devided by %d\"%(x,y))',\n",
       " '_i106': 'locals()'}"
      ]
     },
     "execution_count": 106,
     "metadata": {},
     "output_type": "execute_result"
    }
   ],
   "source": [
    "locals()"
   ]
  },
  {
   "cell_type": "code",
   "execution_count": 107,
   "metadata": {},
   "outputs": [
    {
     "data": {
      "text/plain": [
       "{'__name__': '__main__',\n",
       " '__doc__': 'Automatically created module for IPython interactive environment',\n",
       " '__package__': None,\n",
       " '__loader__': None,\n",
       " '__spec__': None,\n",
       " '__builtin__': <module 'builtins' (built-in)>,\n",
       " '__builtins__': <module 'builtins' (built-in)>,\n",
       " '_ih': ['',\n",
       "  'list = [1,2,3,4]',\n",
       "  'list',\n",
       "  'abs(-7.78)',\n",
       "  'abs(9.999)',\n",
       "  'all([True, False, True, False])',\n",
       "  'all(False, False)',\n",
       "  'all([False, False])',\n",
       "  'all([True, True])',\n",
       "  'any([True, True])',\n",
       "  'any([True, False])',\n",
       "  'any([False, False])',\n",
       "  'bool(1)',\n",
       "  'bool(0)',\n",
       "  \"bool('')\",\n",
       "  \"bool('Hi')\",\n",
       "  'if \\'Hi\\':\\n    print(\"Hi\")',\n",
       "  'if \\'\\':\\n    print(\"Hi\")',\n",
       "  'callable(list)',\n",
       "  'def fun():\\n    print(\"Hello\")',\n",
       "  'callable(fun)',\n",
       "  'var = 66',\n",
       "  'callable(var)',\n",
       "  \"chr('H')\",\n",
       "  'chr(45)',\n",
       "  \"ord('A')\",\n",
       "  'chr(65)',\n",
       "  '# @classmethod\\n# @staticmethod',\n",
       "  'file = compile(filename)\\nexec(file)',\n",
       "  'delattr(list)',\n",
       "  'help(delattr())',\n",
       "  'help(delattr)',\n",
       "  'def fun():\\n    z = 345\\n    print(\"Hello\")',\n",
       "  \"delattr(fun, 'z')\",\n",
       "  'delattr(fun, z)',\n",
       "  'delattr(fun)',\n",
       "  \"class Coordinate:\\n  x = 10\\n  y = -5\\n  z = 0\\n\\npoint1 = Coordinate() \\n\\nprint('x = ',point1.x)\\nprint('y = ',point1.y)\\nprint('z = ',point1.z)\",\n",
       "  \"delattr(point1, 'x')\",\n",
       "  \"delattr(Coordinate, 'x')\",\n",
       "  \"print('x = ',point1.x)\\nprint('y = ',point1.y)\\nprint('z = ',point1.z)\",\n",
       "  \"for i, j in enumerate(['hi', 'hello', 'how are you']):\\n    print(i, j)\",\n",
       "  'x = 23\\ny = 90\\nprint(\"number %s devided by %s\"%(x,y))',\n",
       "  'print(\"{} number devided by {}\".format(x,y))',\n",
       "  'print(\"{0} number devided by {1}\".format(x,y))',\n",
       "  'print(\"{1} number devided by {0}\".format(x,y))',\n",
       "  'f\"{x} is devided by {y}\"',\n",
       "  'print(\"number %f devided by %f\"%(x,y))',\n",
       "  'print(\"number %d devided by %d\"%(x,y))',\n",
       "  'locals()',\n",
       "  'globals()',\n",
       "  'hasattr({\\'a\\':\"b\"})',\n",
       "  \"class Person:\\n    age = 23\\n    name = 'Adam'\\n\\nperson = Person()\\n\\nprint('Person has age?:', hasattr(person, 'age'))\\nprint('Person has salary?:', hasattr(person, 'salary'))\",\n",
       "  'hash({2,3})',\n",
       "  'hash((2,3))',\n",
       "  'hash([2,3])',\n",
       "  \"hash('yuyu')\",\n",
       "  \"hash({'a':'b'})\",\n",
       "  'hash(56)',\n",
       "  'hex(56)',\n",
       "  'list',\n",
       "  'l1 = [2,4,5,6]',\n",
       "  'isinstance(list, l1)',\n",
       "  'isinstance(l1, list)',\n",
       "  'isinstance(list, l1)',\n",
       "  'isinstance(int, l1)',\n",
       "  'isinstance(int, 3)',\n",
       "  'isinstance(list,l1)',\n",
       "  'isinstance(int,30)',\n",
       "  'isinstance(30,int)',\n",
       "  'isinstance(l1,int)',\n",
       "  'isinstance(l1,list)',\n",
       "  'abs(-7.78)',\n",
       "  'abs(9.999)',\n",
       "  'all([True, False, True, False])',\n",
       "  'all([False, False])',\n",
       "  'all([True, True])',\n",
       "  'any([True, True])',\n",
       "  'any([True, False])',\n",
       "  'any([False, False])',\n",
       "  'bool(1)',\n",
       "  'bool(0)',\n",
       "  \"bool('')\",\n",
       "  \"bool('Hi')\",\n",
       "  'if \\'\\':\\n    print(\"Hi\")',\n",
       "  'callable(list)',\n",
       "  'def fun():\\n    z = 345\\n    print(\"Hello\")',\n",
       "  'callable(fun)',\n",
       "  'var = 66',\n",
       "  'callable(var)',\n",
       "  'chr(45)',\n",
       "  \"ord('A')\",\n",
       "  'chr(65)',\n",
       "  '# @classmethod\\n# @staticmethod',\n",
       "  'file = compile(filename)\\nexec(file)',\n",
       "  'help(delattr)',\n",
       "  'delattr(fun)',\n",
       "  \"class Coordinate:\\n  x = 10\\n  y = -5\\n  z = 0\\n\\npoint1 = Coordinate() \\n\\nprint('x = ',point1.x)\\nprint('y = ',point1.y)\\nprint('z = ',point1.z)\",\n",
       "  \"delattr(Coordinate, 'x')\",\n",
       "  \"print('x = ',point1.x)\\nprint('y = ',point1.y)\\nprint('z = ',point1.z)\",\n",
       "  \"for i, j in enumerate(['hi', 'hello', 'how are you']):\\n    print(i, j)\",\n",
       "  'x = 23\\ny = 90\\nprint(\"number %s devided by %s\"%(x,y))',\n",
       "  'print(\"{} number devided by {}\".format(x,y))',\n",
       "  'print(\"{1} number devided by {0}\".format(x,y))',\n",
       "  'f\"{x} is devided by {y}\"',\n",
       "  'print(\"number %f devided by %f\"%(x,y))',\n",
       "  'print(\"number %d devided by %d\"%(x,y))',\n",
       "  'locals()',\n",
       "  'globals()'],\n",
       " '_oh': {2: [1, 2, 3, 4],\n",
       "  3: 7.78,\n",
       "  4: 9.999,\n",
       "  5: False,\n",
       "  7: False,\n",
       "  8: True,\n",
       "  9: True,\n",
       "  10: True,\n",
       "  11: False,\n",
       "  12: True,\n",
       "  13: False,\n",
       "  14: False,\n",
       "  15: True,\n",
       "  18: False,\n",
       "  20: True,\n",
       "  22: False,\n",
       "  24: '-',\n",
       "  25: 65,\n",
       "  26: 'A',\n",
       "  45: '23 is devided by 90',\n",
       "  48: {...},\n",
       "  49: {...},\n",
       "  53: 3713082714463740756,\n",
       "  55: -8698559694311966544,\n",
       "  57: 56,\n",
       "  58: '0x38',\n",
       "  59: [1, 2, 3, 4],\n",
       "  68: True,\n",
       "  69: False,\n",
       "  71: 7.78,\n",
       "  72: 9.999,\n",
       "  73: False,\n",
       "  74: False,\n",
       "  75: True,\n",
       "  76: True,\n",
       "  77: True,\n",
       "  78: False,\n",
       "  79: True,\n",
       "  80: False,\n",
       "  81: False,\n",
       "  82: True,\n",
       "  84: False,\n",
       "  86: True,\n",
       "  88: False,\n",
       "  89: '-',\n",
       "  90: 65,\n",
       "  91: 'A',\n",
       "  103: '23 is devided by 90',\n",
       "  106: {...}},\n",
       " '_dh': ['I:\\\\Python-26Nov\\\\Python_Nov26'],\n",
       " 'In': ['',\n",
       "  'list = [1,2,3,4]',\n",
       "  'list',\n",
       "  'abs(-7.78)',\n",
       "  'abs(9.999)',\n",
       "  'all([True, False, True, False])',\n",
       "  'all(False, False)',\n",
       "  'all([False, False])',\n",
       "  'all([True, True])',\n",
       "  'any([True, True])',\n",
       "  'any([True, False])',\n",
       "  'any([False, False])',\n",
       "  'bool(1)',\n",
       "  'bool(0)',\n",
       "  \"bool('')\",\n",
       "  \"bool('Hi')\",\n",
       "  'if \\'Hi\\':\\n    print(\"Hi\")',\n",
       "  'if \\'\\':\\n    print(\"Hi\")',\n",
       "  'callable(list)',\n",
       "  'def fun():\\n    print(\"Hello\")',\n",
       "  'callable(fun)',\n",
       "  'var = 66',\n",
       "  'callable(var)',\n",
       "  \"chr('H')\",\n",
       "  'chr(45)',\n",
       "  \"ord('A')\",\n",
       "  'chr(65)',\n",
       "  '# @classmethod\\n# @staticmethod',\n",
       "  'file = compile(filename)\\nexec(file)',\n",
       "  'delattr(list)',\n",
       "  'help(delattr())',\n",
       "  'help(delattr)',\n",
       "  'def fun():\\n    z = 345\\n    print(\"Hello\")',\n",
       "  \"delattr(fun, 'z')\",\n",
       "  'delattr(fun, z)',\n",
       "  'delattr(fun)',\n",
       "  \"class Coordinate:\\n  x = 10\\n  y = -5\\n  z = 0\\n\\npoint1 = Coordinate() \\n\\nprint('x = ',point1.x)\\nprint('y = ',point1.y)\\nprint('z = ',point1.z)\",\n",
       "  \"delattr(point1, 'x')\",\n",
       "  \"delattr(Coordinate, 'x')\",\n",
       "  \"print('x = ',point1.x)\\nprint('y = ',point1.y)\\nprint('z = ',point1.z)\",\n",
       "  \"for i, j in enumerate(['hi', 'hello', 'how are you']):\\n    print(i, j)\",\n",
       "  'x = 23\\ny = 90\\nprint(\"number %s devided by %s\"%(x,y))',\n",
       "  'print(\"{} number devided by {}\".format(x,y))',\n",
       "  'print(\"{0} number devided by {1}\".format(x,y))',\n",
       "  'print(\"{1} number devided by {0}\".format(x,y))',\n",
       "  'f\"{x} is devided by {y}\"',\n",
       "  'print(\"number %f devided by %f\"%(x,y))',\n",
       "  'print(\"number %d devided by %d\"%(x,y))',\n",
       "  'locals()',\n",
       "  'globals()',\n",
       "  'hasattr({\\'a\\':\"b\"})',\n",
       "  \"class Person:\\n    age = 23\\n    name = 'Adam'\\n\\nperson = Person()\\n\\nprint('Person has age?:', hasattr(person, 'age'))\\nprint('Person has salary?:', hasattr(person, 'salary'))\",\n",
       "  'hash({2,3})',\n",
       "  'hash((2,3))',\n",
       "  'hash([2,3])',\n",
       "  \"hash('yuyu')\",\n",
       "  \"hash({'a':'b'})\",\n",
       "  'hash(56)',\n",
       "  'hex(56)',\n",
       "  'list',\n",
       "  'l1 = [2,4,5,6]',\n",
       "  'isinstance(list, l1)',\n",
       "  'isinstance(l1, list)',\n",
       "  'isinstance(list, l1)',\n",
       "  'isinstance(int, l1)',\n",
       "  'isinstance(int, 3)',\n",
       "  'isinstance(list,l1)',\n",
       "  'isinstance(int,30)',\n",
       "  'isinstance(30,int)',\n",
       "  'isinstance(l1,int)',\n",
       "  'isinstance(l1,list)',\n",
       "  'abs(-7.78)',\n",
       "  'abs(9.999)',\n",
       "  'all([True, False, True, False])',\n",
       "  'all([False, False])',\n",
       "  'all([True, True])',\n",
       "  'any([True, True])',\n",
       "  'any([True, False])',\n",
       "  'any([False, False])',\n",
       "  'bool(1)',\n",
       "  'bool(0)',\n",
       "  \"bool('')\",\n",
       "  \"bool('Hi')\",\n",
       "  'if \\'\\':\\n    print(\"Hi\")',\n",
       "  'callable(list)',\n",
       "  'def fun():\\n    z = 345\\n    print(\"Hello\")',\n",
       "  'callable(fun)',\n",
       "  'var = 66',\n",
       "  'callable(var)',\n",
       "  'chr(45)',\n",
       "  \"ord('A')\",\n",
       "  'chr(65)',\n",
       "  '# @classmethod\\n# @staticmethod',\n",
       "  'file = compile(filename)\\nexec(file)',\n",
       "  'help(delattr)',\n",
       "  'delattr(fun)',\n",
       "  \"class Coordinate:\\n  x = 10\\n  y = -5\\n  z = 0\\n\\npoint1 = Coordinate() \\n\\nprint('x = ',point1.x)\\nprint('y = ',point1.y)\\nprint('z = ',point1.z)\",\n",
       "  \"delattr(Coordinate, 'x')\",\n",
       "  \"print('x = ',point1.x)\\nprint('y = ',point1.y)\\nprint('z = ',point1.z)\",\n",
       "  \"for i, j in enumerate(['hi', 'hello', 'how are you']):\\n    print(i, j)\",\n",
       "  'x = 23\\ny = 90\\nprint(\"number %s devided by %s\"%(x,y))',\n",
       "  'print(\"{} number devided by {}\".format(x,y))',\n",
       "  'print(\"{1} number devided by {0}\".format(x,y))',\n",
       "  'f\"{x} is devided by {y}\"',\n",
       "  'print(\"number %f devided by %f\"%(x,y))',\n",
       "  'print(\"number %d devided by %d\"%(x,y))',\n",
       "  'locals()',\n",
       "  'globals()'],\n",
       " 'Out': {2: [1, 2, 3, 4],\n",
       "  3: 7.78,\n",
       "  4: 9.999,\n",
       "  5: False,\n",
       "  7: False,\n",
       "  8: True,\n",
       "  9: True,\n",
       "  10: True,\n",
       "  11: False,\n",
       "  12: True,\n",
       "  13: False,\n",
       "  14: False,\n",
       "  15: True,\n",
       "  18: False,\n",
       "  20: True,\n",
       "  22: False,\n",
       "  24: '-',\n",
       "  25: 65,\n",
       "  26: 'A',\n",
       "  45: '23 is devided by 90',\n",
       "  48: {...},\n",
       "  49: {...},\n",
       "  53: 3713082714463740756,\n",
       "  55: -8698559694311966544,\n",
       "  57: 56,\n",
       "  58: '0x38',\n",
       "  59: [1, 2, 3, 4],\n",
       "  68: True,\n",
       "  69: False,\n",
       "  71: 7.78,\n",
       "  72: 9.999,\n",
       "  73: False,\n",
       "  74: False,\n",
       "  75: True,\n",
       "  76: True,\n",
       "  77: True,\n",
       "  78: False,\n",
       "  79: True,\n",
       "  80: False,\n",
       "  81: False,\n",
       "  82: True,\n",
       "  84: False,\n",
       "  86: True,\n",
       "  88: False,\n",
       "  89: '-',\n",
       "  90: 65,\n",
       "  91: 'A',\n",
       "  103: '23 is devided by 90',\n",
       "  106: {...}},\n",
       " 'get_ipython': <bound method InteractiveShell.get_ipython of <ipykernel.zmqshell.ZMQInteractiveShell object at 0x0000016B7AD46CC8>>,\n",
       " 'exit': <IPython.core.autocall.ZMQExitAutocall at 0x16b7adb8bc8>,\n",
       " 'quit': <IPython.core.autocall.ZMQExitAutocall at 0x16b7adb8bc8>,\n",
       " '_': {...},\n",
       " '__': '23 is devided by 90',\n",
       " '___': 'A',\n",
       " '_i': 'locals()',\n",
       " '_ii': 'print(\"number %d devided by %d\"%(x,y))',\n",
       " '_iii': 'print(\"number %f devided by %f\"%(x,y))',\n",
       " '_i1': 'list = [1,2,3,4]',\n",
       " 'list': [1, 2, 3, 4],\n",
       " '_i2': 'list',\n",
       " '_2': [1, 2, 3, 4],\n",
       " '_i3': 'abs(-7.78)',\n",
       " '_3': 7.78,\n",
       " '_i4': 'abs(9.999)',\n",
       " '_4': 9.999,\n",
       " '_i5': 'all([True, False, True, False])',\n",
       " '_5': False,\n",
       " '_i6': 'all(False, False)',\n",
       " '_i7': 'all([False, False])',\n",
       " '_7': False,\n",
       " '_i8': 'all([True, True])',\n",
       " '_8': True,\n",
       " '_i9': 'any([True, True])',\n",
       " '_9': True,\n",
       " '_i10': 'any([True, False])',\n",
       " '_10': True,\n",
       " '_i11': 'any([False, False])',\n",
       " '_11': False,\n",
       " '_i12': 'bool(1)',\n",
       " '_12': True,\n",
       " '_i13': 'bool(0)',\n",
       " '_13': False,\n",
       " '_i14': \"bool('')\",\n",
       " '_14': False,\n",
       " '_i15': \"bool('Hi')\",\n",
       " '_15': True,\n",
       " '_i16': 'if \\'Hi\\':\\n    print(\"Hi\")',\n",
       " '_i17': 'if \\'\\':\\n    print(\"Hi\")',\n",
       " '_i18': 'callable(list)',\n",
       " '_18': False,\n",
       " '_i19': 'def fun():\\n    print(\"Hello\")',\n",
       " 'fun': <function __main__.fun()>,\n",
       " '_i20': 'callable(fun)',\n",
       " '_20': True,\n",
       " '_i21': 'var = 66',\n",
       " 'var': 66,\n",
       " '_i22': 'callable(var)',\n",
       " '_22': False,\n",
       " '_i23': \"chr('H')\",\n",
       " '_i24': 'chr(45)',\n",
       " '_24': '-',\n",
       " '_i25': \"ord('A')\",\n",
       " '_25': 65,\n",
       " '_i26': 'chr(65)',\n",
       " '_26': 'A',\n",
       " '_i27': '# @classmethod\\n# @staticmethod',\n",
       " '_i28': 'file = compile(filename)\\nexec(file)',\n",
       " '_i29': 'delattr(list)',\n",
       " '_i30': 'help(delattr())',\n",
       " '_i31': 'help(delattr)',\n",
       " '_i32': 'def fun():\\n    z = 345\\n    print(\"Hello\")',\n",
       " '_i33': \"delattr(fun, 'z')\",\n",
       " '_i34': 'delattr(fun, z)',\n",
       " '_i35': 'delattr(fun)',\n",
       " '_i36': \"class Coordinate:\\n  x = 10\\n  y = -5\\n  z = 0\\n\\npoint1 = Coordinate() \\n\\nprint('x = ',point1.x)\\nprint('y = ',point1.y)\\nprint('z = ',point1.z)\",\n",
       " 'Coordinate': __main__.Coordinate,\n",
       " 'point1': <__main__.Coordinate at 0x16b7bf0b948>,\n",
       " '_i37': \"delattr(point1, 'x')\",\n",
       " '_i38': \"delattr(Coordinate, 'x')\",\n",
       " '_i39': \"print('x = ',point1.x)\\nprint('y = ',point1.y)\\nprint('z = ',point1.z)\",\n",
       " '_i40': \"for i, j in enumerate(['hi', 'hello', 'how are you']):\\n    print(i, j)\",\n",
       " 'i': 2,\n",
       " 'j': 'how are you',\n",
       " '_i41': 'x = 23\\ny = 90\\nprint(\"number %s devided by %s\"%(x,y))',\n",
       " 'x': 23,\n",
       " 'y': 90,\n",
       " '_i42': 'print(\"{} number devided by {}\".format(x,y))',\n",
       " '_i43': 'print(\"{0} number devided by {1}\".format(x,y))',\n",
       " '_i44': 'print(\"{1} number devided by {0}\".format(x,y))',\n",
       " '_i45': 'f\"{x} is devided by {y}\"',\n",
       " '_45': '23 is devided by 90',\n",
       " '_i46': 'print(\"number %f devided by %f\"%(x,y))',\n",
       " '_i47': 'print(\"number %d devided by %d\"%(x,y))',\n",
       " '_i48': 'locals()',\n",
       " '_48': {...},\n",
       " '_i49': 'globals()',\n",
       " '_49': {...},\n",
       " '_i50': 'hasattr({\\'a\\':\"b\"})',\n",
       " '_i51': \"class Person:\\n    age = 23\\n    name = 'Adam'\\n\\nperson = Person()\\n\\nprint('Person has age?:', hasattr(person, 'age'))\\nprint('Person has salary?:', hasattr(person, 'salary'))\",\n",
       " 'Person': __main__.Person,\n",
       " 'person': <__main__.Person at 0x16b7bf2fdc8>,\n",
       " '_i52': 'hash({2,3})',\n",
       " '_i53': 'hash((2,3))',\n",
       " '_53': 3713082714463740756,\n",
       " '_i54': 'hash([2,3])',\n",
       " '_i55': \"hash('yuyu')\",\n",
       " '_55': -8698559694311966544,\n",
       " '_i56': \"hash({'a':'b'})\",\n",
       " '_i57': 'hash(56)',\n",
       " '_57': 56,\n",
       " '_i58': 'hex(56)',\n",
       " '_58': '0x38',\n",
       " '_i59': 'list',\n",
       " '_59': [1, 2, 3, 4],\n",
       " '_i60': 'l1 = [2,4,5,6]',\n",
       " 'l1': [2, 4, 5, 6],\n",
       " '_i61': 'isinstance(list, l1)',\n",
       " '_i62': 'isinstance(l1, list)',\n",
       " '_i63': 'isinstance(list, l1)',\n",
       " '_i64': 'isinstance(int, l1)',\n",
       " '_i65': 'isinstance(int, 3)',\n",
       " '_i66': 'isinstance(list,l1)',\n",
       " '_i67': 'isinstance(int,30)',\n",
       " '_i68': 'isinstance(30,int)',\n",
       " '_68': True,\n",
       " '_i69': 'isinstance(l1,int)',\n",
       " '_69': False,\n",
       " '_i70': 'isinstance(l1,list)',\n",
       " '_i71': 'abs(-7.78)',\n",
       " '_71': 7.78,\n",
       " '_i72': 'abs(9.999)',\n",
       " '_72': 9.999,\n",
       " '_i73': 'all([True, False, True, False])',\n",
       " '_73': False,\n",
       " '_i74': 'all([False, False])',\n",
       " '_74': False,\n",
       " '_i75': 'all([True, True])',\n",
       " '_75': True,\n",
       " '_i76': 'any([True, True])',\n",
       " '_76': True,\n",
       " '_i77': 'any([True, False])',\n",
       " '_77': True,\n",
       " '_i78': 'any([False, False])',\n",
       " '_78': False,\n",
       " '_i79': 'bool(1)',\n",
       " '_79': True,\n",
       " '_i80': 'bool(0)',\n",
       " '_80': False,\n",
       " '_i81': \"bool('')\",\n",
       " '_81': False,\n",
       " '_i82': \"bool('Hi')\",\n",
       " '_82': True,\n",
       " '_i83': 'if \\'\\':\\n    print(\"Hi\")',\n",
       " '_i84': 'callable(list)',\n",
       " '_84': False,\n",
       " '_i85': 'def fun():\\n    z = 345\\n    print(\"Hello\")',\n",
       " '_i86': 'callable(fun)',\n",
       " '_86': True,\n",
       " '_i87': 'var = 66',\n",
       " '_i88': 'callable(var)',\n",
       " '_88': False,\n",
       " '_i89': 'chr(45)',\n",
       " '_89': '-',\n",
       " '_i90': \"ord('A')\",\n",
       " '_90': 65,\n",
       " '_i91': 'chr(65)',\n",
       " '_91': 'A',\n",
       " '_i92': '# @classmethod\\n# @staticmethod',\n",
       " '_i93': 'file = compile(filename)\\nexec(file)',\n",
       " '_i94': 'help(delattr)',\n",
       " '_i95': 'delattr(fun)',\n",
       " '_i96': \"class Coordinate:\\n  x = 10\\n  y = -5\\n  z = 0\\n\\npoint1 = Coordinate() \\n\\nprint('x = ',point1.x)\\nprint('y = ',point1.y)\\nprint('z = ',point1.z)\",\n",
       " '_i97': \"delattr(Coordinate, 'x')\",\n",
       " '_i98': \"print('x = ',point1.x)\\nprint('y = ',point1.y)\\nprint('z = ',point1.z)\",\n",
       " '_i99': \"for i, j in enumerate(['hi', 'hello', 'how are you']):\\n    print(i, j)\",\n",
       " '_i100': 'x = 23\\ny = 90\\nprint(\"number %s devided by %s\"%(x,y))',\n",
       " '_i101': 'print(\"{} number devided by {}\".format(x,y))',\n",
       " '_i102': 'print(\"{1} number devided by {0}\".format(x,y))',\n",
       " '_i103': 'f\"{x} is devided by {y}\"',\n",
       " '_103': '23 is devided by 90',\n",
       " '_i104': 'print(\"number %f devided by %f\"%(x,y))',\n",
       " '_i105': 'print(\"number %d devided by %d\"%(x,y))',\n",
       " '_i106': 'locals()',\n",
       " '_106': {...},\n",
       " '_i107': 'globals()'}"
      ]
     },
     "execution_count": 107,
     "metadata": {},
     "output_type": "execute_result"
    }
   ],
   "source": [
    "globals()"
   ]
  },
  {
   "cell_type": "code",
   "execution_count": 108,
   "metadata": {},
   "outputs": [
    {
     "ename": "TypeError",
     "evalue": "hasattr expected 2 arguments, got 1",
     "output_type": "error",
     "traceback": [
      "\u001b[1;31m---------------------------------------------------------------------------\u001b[0m",
      "\u001b[1;31mTypeError\u001b[0m                                 Traceback (most recent call last)",
      "\u001b[1;32m<ipython-input-108-02d47a35e85e>\u001b[0m in \u001b[0;36m<module>\u001b[1;34m\u001b[0m\n\u001b[1;32m----> 1\u001b[1;33m \u001b[0mhasattr\u001b[0m\u001b[1;33m(\u001b[0m\u001b[1;33m{\u001b[0m\u001b[1;34m'a'\u001b[0m\u001b[1;33m:\u001b[0m\u001b[1;34m\"b\"\u001b[0m\u001b[1;33m}\u001b[0m\u001b[1;33m)\u001b[0m\u001b[1;33m\u001b[0m\u001b[1;33m\u001b[0m\u001b[0m\n\u001b[0m",
      "\u001b[1;31mTypeError\u001b[0m: hasattr expected 2 arguments, got 1"
     ]
    }
   ],
   "source": [
    "hasattr({'a':\"b\"})"
   ]
  },
  {
   "cell_type": "code",
   "execution_count": 109,
   "metadata": {},
   "outputs": [
    {
     "name": "stdout",
     "output_type": "stream",
     "text": [
      "Person has age?: True\n",
      "Person has salary?: False\n"
     ]
    }
   ],
   "source": [
    "class Person:\n",
    "    age = 23\n",
    "    name = 'Adam'\n",
    "\n",
    "person = Person()\n",
    "\n",
    "print('Person has age?:', hasattr(person, 'age'))\n",
    "print('Person has salary?:', hasattr(person, 'salary'))"
   ]
  },
  {
   "cell_type": "code",
   "execution_count": 110,
   "metadata": {},
   "outputs": [
    {
     "ename": "TypeError",
     "evalue": "unhashable type: 'list'",
     "output_type": "error",
     "traceback": [
      "\u001b[1;31m---------------------------------------------------------------------------\u001b[0m",
      "\u001b[1;31mTypeError\u001b[0m                                 Traceback (most recent call last)",
      "\u001b[1;32m<ipython-input-110-6849b5c43fd7>\u001b[0m in \u001b[0;36m<module>\u001b[1;34m\u001b[0m\n\u001b[1;32m----> 1\u001b[1;33m \u001b[0mhash\u001b[0m\u001b[1;33m(\u001b[0m\u001b[1;33m[\u001b[0m\u001b[1;36m2\u001b[0m\u001b[1;33m,\u001b[0m\u001b[1;36m3\u001b[0m\u001b[1;33m]\u001b[0m\u001b[1;33m)\u001b[0m\u001b[1;33m\u001b[0m\u001b[1;33m\u001b[0m\u001b[0m\n\u001b[0m",
      "\u001b[1;31mTypeError\u001b[0m: unhashable type: 'list'"
     ]
    }
   ],
   "source": [
    "hash([2,3])"
   ]
  },
  {
   "cell_type": "code",
   "execution_count": 111,
   "metadata": {},
   "outputs": [
    {
     "data": {
      "text/plain": [
       "-8698559694311966544"
      ]
     },
     "execution_count": 111,
     "metadata": {},
     "output_type": "execute_result"
    }
   ],
   "source": [
    "hash('yuyu')"
   ]
  },
  {
   "cell_type": "code",
   "execution_count": 112,
   "metadata": {},
   "outputs": [
    {
     "ename": "TypeError",
     "evalue": "unhashable type: 'dict'",
     "output_type": "error",
     "traceback": [
      "\u001b[1;31m---------------------------------------------------------------------------\u001b[0m",
      "\u001b[1;31mTypeError\u001b[0m                                 Traceback (most recent call last)",
      "\u001b[1;32m<ipython-input-112-ec5d645e631f>\u001b[0m in \u001b[0;36m<module>\u001b[1;34m\u001b[0m\n\u001b[1;32m----> 1\u001b[1;33m \u001b[0mhash\u001b[0m\u001b[1;33m(\u001b[0m\u001b[1;33m{\u001b[0m\u001b[1;34m'a'\u001b[0m\u001b[1;33m:\u001b[0m\u001b[1;34m'b'\u001b[0m\u001b[1;33m}\u001b[0m\u001b[1;33m)\u001b[0m\u001b[1;33m\u001b[0m\u001b[1;33m\u001b[0m\u001b[0m\n\u001b[0m",
      "\u001b[1;31mTypeError\u001b[0m: unhashable type: 'dict'"
     ]
    }
   ],
   "source": [
    "hash({'a':'b'})"
   ]
  },
  {
   "cell_type": "code",
   "execution_count": 113,
   "metadata": {},
   "outputs": [
    {
     "data": {
      "text/plain": [
       "56"
      ]
     },
     "execution_count": 113,
     "metadata": {},
     "output_type": "execute_result"
    }
   ],
   "source": [
    "hash(56)"
   ]
  },
  {
   "cell_type": "code",
   "execution_count": 114,
   "metadata": {},
   "outputs": [
    {
     "data": {
      "text/plain": [
       "'0x38'"
      ]
     },
     "execution_count": 114,
     "metadata": {},
     "output_type": "execute_result"
    }
   ],
   "source": [
    "hex(56)"
   ]
  },
  {
   "cell_type": "code",
   "execution_count": 116,
   "metadata": {},
   "outputs": [],
   "source": [
    "l1 = [2,4,5,6]"
   ]
  },
  {
   "cell_type": "code",
   "execution_count": 117,
   "metadata": {},
   "outputs": [
    {
     "data": {
      "text/plain": [
       "True"
      ]
     },
     "execution_count": 117,
     "metadata": {},
     "output_type": "execute_result"
    }
   ],
   "source": [
    "isinstance(30,int)"
   ]
  },
  {
   "cell_type": "code",
   "execution_count": 118,
   "metadata": {},
   "outputs": [
    {
     "data": {
      "text/plain": [
       "False"
      ]
     },
     "execution_count": 118,
     "metadata": {},
     "output_type": "execute_result"
    }
   ],
   "source": [
    "isinstance(l1,int)"
   ]
  },
  {
   "cell_type": "code",
   "execution_count": 122,
   "metadata": {},
   "outputs": [
    {
     "data": {
      "text/plain": [
       "True"
      ]
     },
     "execution_count": 122,
     "metadata": {},
     "output_type": "execute_result"
    }
   ],
   "source": [
    "isinstance({1,2,4},set)"
   ]
  },
  {
   "cell_type": "code",
   "execution_count": 125,
   "metadata": {},
   "outputs": [],
   "source": [
    "class A:\n",
    "    pass\n",
    "class B(A):\n",
    "    pass\n",
    "class C:pass"
   ]
  },
  {
   "cell_type": "code",
   "execution_count": 126,
   "metadata": {},
   "outputs": [
    {
     "data": {
      "text/plain": [
       "True"
      ]
     },
     "execution_count": 126,
     "metadata": {},
     "output_type": "execute_result"
    }
   ],
   "source": [
    "issubclass(B, A)"
   ]
  },
  {
   "cell_type": "code",
   "execution_count": 128,
   "metadata": {},
   "outputs": [
    {
     "data": {
      "text/plain": [
       "False"
      ]
     },
     "execution_count": 128,
     "metadata": {},
     "output_type": "execute_result"
    }
   ],
   "source": [
    "issubclass(C, A)"
   ]
  },
  {
   "cell_type": "code",
   "execution_count": 129,
   "metadata": {},
   "outputs": [
    {
     "data": {
      "text/plain": [
       "40"
      ]
     },
     "execution_count": 129,
     "metadata": {},
     "output_type": "execute_result"
    }
   ],
   "source": [
    "max([4,5,6,7,40])"
   ]
  },
  {
   "cell_type": "code",
   "execution_count": 130,
   "metadata": {},
   "outputs": [
    {
     "data": {
      "text/plain": [
       "4"
      ]
     },
     "execution_count": 130,
     "metadata": {},
     "output_type": "execute_result"
    }
   ],
   "source": [
    "min([4,5,6,7,40])"
   ]
  },
  {
   "cell_type": "code",
   "execution_count": 131,
   "metadata": {},
   "outputs": [
    {
     "data": {
      "text/plain": [
       "[4, 5, 6, 7, 40]"
      ]
     },
     "execution_count": 131,
     "metadata": {},
     "output_type": "execute_result"
    }
   ],
   "source": [
    "sorted([4,5,6,7,40])"
   ]
  },
  {
   "cell_type": "code",
   "execution_count": 132,
   "metadata": {},
   "outputs": [
    {
     "data": {
      "text/plain": [
       "[1, 2, 4, 4, 5, 6, 7, 40]"
      ]
     },
     "execution_count": 132,
     "metadata": {},
     "output_type": "execute_result"
    }
   ],
   "source": [
    "sorted([4,5,6,7,40, 1,2,4])"
   ]
  },
  {
   "cell_type": "code",
   "execution_count": 133,
   "metadata": {},
   "outputs": [
    {
     "data": {
      "text/plain": [
       "{1, 2, 4, 5, 6, 7, 40}"
      ]
     },
     "execution_count": 133,
     "metadata": {},
     "output_type": "execute_result"
    }
   ],
   "source": [
    "set([1, 2, 4, 4, 5, 6, 7, 40])"
   ]
  },
  {
   "cell_type": "code",
   "execution_count": 140,
   "metadata": {},
   "outputs": [
    {
     "ename": "TypeError",
     "evalue": "memoryview: a bytes-like object is required, not 'int'",
     "output_type": "error",
     "traceback": [
      "\u001b[1;31m---------------------------------------------------------------------------\u001b[0m",
      "\u001b[1;31mTypeError\u001b[0m                                 Traceback (most recent call last)",
      "\u001b[1;32m<ipython-input-140-04ded6cb2635>\u001b[0m in \u001b[0;36m<module>\u001b[1;34m\u001b[0m\n\u001b[1;32m----> 1\u001b[1;33m \u001b[0mmemoryview\u001b[0m\u001b[1;33m(\u001b[0m\u001b[1;36m110\u001b[0m\u001b[1;33m)\u001b[0m\u001b[1;33m\u001b[0m\u001b[1;33m\u001b[0m\u001b[0m\n\u001b[0m",
      "\u001b[1;31mTypeError\u001b[0m: memoryview: a bytes-like object is required, not 'int'"
     ]
    }
   ],
   "source": [
    "memoryview(110)"
   ]
  },
  {
   "cell_type": "code",
   "execution_count": 143,
   "metadata": {},
   "outputs": [],
   "source": [
    "bt = bytearray('ABC', 'utf-8')"
   ]
  },
  {
   "cell_type": "code",
   "execution_count": 144,
   "metadata": {},
   "outputs": [
    {
     "data": {
      "text/plain": [
       "bytearray(b'ABC')"
      ]
     },
     "execution_count": 144,
     "metadata": {},
     "output_type": "execute_result"
    }
   ],
   "source": [
    "bt"
   ]
  },
  {
   "cell_type": "code",
   "execution_count": 145,
   "metadata": {},
   "outputs": [
    {
     "data": {
      "text/plain": [
       "<memory at 0x0000016B7CA5BA08>"
      ]
     },
     "execution_count": 145,
     "metadata": {},
     "output_type": "execute_result"
    }
   ],
   "source": [
    "memoryview(bt)"
   ]
  },
  {
   "cell_type": "code",
   "execution_count": 146,
   "metadata": {},
   "outputs": [
    {
     "name": "stdout",
     "output_type": "stream",
     "text": [
      "bytearray(b'\\x00\\x00\\x00\\x00\\x00')\n"
     ]
    }
   ],
   "source": [
    "size = 5\n",
    "\n",
    "arr = bytearray(size)\n",
    "print(arr)"
   ]
  },
  {
   "cell_type": "code",
   "execution_count": 147,
   "metadata": {},
   "outputs": [
    {
     "data": {
      "text/plain": [
       "b'\\x00\\x00\\x00\\x00\\x00'"
      ]
     },
     "execution_count": 147,
     "metadata": {},
     "output_type": "execute_result"
    }
   ],
   "source": [
    "bytes(5)"
   ]
  },
  {
   "cell_type": "code",
   "execution_count": 148,
   "metadata": {},
   "outputs": [
    {
     "data": {
      "text/plain": [
       "b'\\x00\\x00\\x00\\x00\\x00\\x00\\x00\\x00\\x00\\x00\\x00\\x00\\x00\\x00\\x00\\x00\\x00\\x00\\x00\\x00\\x00\\x00\\x00\\x00\\x00\\x00\\x00\\x00\\x00\\x00\\x00\\x00\\x00\\x00'"
      ]
     },
     "execution_count": 148,
     "metadata": {},
     "output_type": "execute_result"
    }
   ],
   "source": [
    "bytes(34)"
   ]
  },
  {
   "cell_type": "code",
   "execution_count": 150,
   "metadata": {},
   "outputs": [
    {
     "name": "stdout",
     "output_type": "stream",
     "text": [
      "6 4\n",
      "7 5\n",
      "8 6\n",
      "9 7\n"
     ]
    }
   ],
   "source": [
    "l2 = [4,5,6,7, 8]\n",
    "l1 = [6,7,8,9]\n",
    "for i, j in zip(l1,l2):\n",
    "    print(i,j)"
   ]
  },
  {
   "cell_type": "code",
   "execution_count": 151,
   "metadata": {},
   "outputs": [
    {
     "data": {
      "text/plain": [
       "{6: 4, 7: 5, 8: 6, 9: 7}"
      ]
     },
     "execution_count": 151,
     "metadata": {},
     "output_type": "execute_result"
    }
   ],
   "source": [
    "dict(zip(l1,l2))"
   ]
  },
  {
   "cell_type": "code",
   "execution_count": 154,
   "metadata": {},
   "outputs": [
    {
     "name": "stdout",
     "output_type": "stream",
     "text": [
      "9\n",
      "8\n",
      "7\n",
      "6\n"
     ]
    }
   ],
   "source": [
    "for i in reversed(l1):\n",
    "    print(i)"
   ]
  },
  {
   "cell_type": "code",
   "execution_count": 155,
   "metadata": {},
   "outputs": [
    {
     "data": {
      "text/plain": [
       "[9, 8, 7, 6]"
      ]
     },
     "execution_count": 155,
     "metadata": {},
     "output_type": "execute_result"
    }
   ],
   "source": [
    "l1[::-1]"
   ]
  },
  {
   "cell_type": "code",
   "execution_count": 157,
   "metadata": {},
   "outputs": [
    {
     "data": {
      "text/plain": [
       "34.909"
      ]
     },
     "execution_count": 157,
     "metadata": {},
     "output_type": "execute_result"
    }
   ],
   "source": [
    "round(34.9087678, 3)"
   ]
  },
  {
   "cell_type": "code",
   "execution_count": 161,
   "metadata": {},
   "outputs": [
    {
     "data": {
      "text/plain": [
       "str"
      ]
     },
     "execution_count": 161,
     "metadata": {},
     "output_type": "execute_result"
    }
   ],
   "source": [
    "type(str(l1))"
   ]
  },
  {
   "cell_type": "code",
   "execution_count": 160,
   "metadata": {},
   "outputs": [
    {
     "data": {
      "text/plain": [
       "str"
      ]
     },
     "execution_count": 160,
     "metadata": {},
     "output_type": "execute_result"
    }
   ],
   "source": [
    "type(repr(l1))"
   ]
  },
  {
   "cell_type": "code",
   "execution_count": 162,
   "metadata": {},
   "outputs": [],
   "source": [
    "x = repr(l1)"
   ]
  },
  {
   "cell_type": "code",
   "execution_count": 163,
   "metadata": {},
   "outputs": [],
   "source": [
    "import datetime "
   ]
  },
  {
   "cell_type": "code",
   "execution_count": 164,
   "metadata": {},
   "outputs": [],
   "source": [
    "today = datetime.datetime.now()"
   ]
  },
  {
   "cell_type": "code",
   "execution_count": 165,
   "metadata": {},
   "outputs": [
    {
     "data": {
      "text/plain": [
       "datetime.datetime(2020, 12, 16, 21, 41, 51, 74472)"
      ]
     },
     "execution_count": 165,
     "metadata": {},
     "output_type": "execute_result"
    }
   ],
   "source": [
    "today"
   ]
  },
  {
   "cell_type": "code",
   "execution_count": 166,
   "metadata": {},
   "outputs": [
    {
     "data": {
      "text/plain": [
       "'2020-12-16 21:41:51.074472'"
      ]
     },
     "execution_count": 166,
     "metadata": {},
     "output_type": "execute_result"
    }
   ],
   "source": [
    "str(today)"
   ]
  },
  {
   "cell_type": "code",
   "execution_count": 167,
   "metadata": {},
   "outputs": [
    {
     "data": {
      "text/plain": [
       "'datetime.datetime(2020, 12, 16, 21, 41, 51, 74472)'"
      ]
     },
     "execution_count": 167,
     "metadata": {},
     "output_type": "execute_result"
    }
   ],
   "source": [
    "repr(today)"
   ]
  },
  {
   "cell_type": "code",
   "execution_count": 168,
   "metadata": {},
   "outputs": [],
   "source": [
    "class Person:\n",
    "    age = 23\n",
    "    name = 'Adam'\n",
    "\n",
    "person = Person()"
   ]
  },
  {
   "cell_type": "code",
   "execution_count": 173,
   "metadata": {},
   "outputs": [],
   "source": [
    "setattr(Person , 'salary', 500)"
   ]
  },
  {
   "cell_type": "code",
   "execution_count": 174,
   "metadata": {},
   "outputs": [
    {
     "data": {
      "text/plain": [
       "500"
      ]
     },
     "execution_count": 174,
     "metadata": {},
     "output_type": "execute_result"
    }
   ],
   "source": [
    "Person().salary"
   ]
  },
  {
   "cell_type": "code",
   "execution_count": null,
   "metadata": {},
   "outputs": [],
   "source": []
  }
 ],
 "metadata": {
  "kernelspec": {
   "display_name": "Python 3",
   "language": "python",
   "name": "python3"
  },
  "language_info": {
   "codemirror_mode": {
    "name": "ipython",
    "version": 3
   },
   "file_extension": ".py",
   "mimetype": "text/x-python",
   "name": "python",
   "nbconvert_exporter": "python",
   "pygments_lexer": "ipython3",
   "version": "3.7.9"
  }
 },
 "nbformat": 4,
 "nbformat_minor": 4
}
